{
 "cells": [
  {
   "cell_type": "markdown",
   "metadata": {},
   "source": [
    "# Complexplorer Tutorial: Domains and Color Maps\n",
    "\n",
    "This tutorial provides a comprehensive guide to working with domains and color maps in complexplorer. You'll learn how to:\n",
    "\n",
    "1. Create and manipulate complex domains\n",
    "2. Understand and use different color mapping techniques\n",
    "3. Combine domains to create complex shapes\n",
    "4. Customize visualizations for your specific needs\n",
    "\n",
    "Let's start by importing the necessary libraries:"
   ]
  },
  {
   "cell_type": "code",
   "execution_count": null,
   "metadata": {},
   "outputs": [],
   "source": [
    "import numpy as np\n",
    "import complexplorer as cp\n",
    "import matplotlib.pyplot as plt\n",
    "from functools import reduce\n",
    "\n",
    "# Set default figure size for better visibility\n",
    "plt.rcParams[\"figure.figsize\"] = (6, 6)\n",
    "plt.rcParams[\"figure.dpi\"] = 100"
   ]
  },
  {
   "cell_type": "markdown",
   "metadata": {},
   "source": [
    "## Part 1: Understanding Domains\n",
    "\n",
    "### What is a Domain?\n",
    "\n",
    "In complexplorer, a **domain** represents a region in the complex plane where we want to visualize our function. Think of it as the \"canvas\" on which we'll paint our complex function.\n",
    "\n",
    "Key concepts:\n",
    "- **Domain function (`infunc`)**: Determines which points belong to the domain\n",
    "- **Viewing window**: The rectangular region displayed in plots\n",
    "- **Mesh**: The grid of complex numbers used for evaluation"
   ]
  },
  {
   "cell_type": "markdown",
   "metadata": {},
   "source": [
    "### Basic Domain Types\n",
    "\n",
    "Complexplorer provides three fundamental domain shapes:"
   ]
  },
  {
   "cell_type": "code",
   "execution_count": null,
   "metadata": {},
   "outputs": [],
   "source": [
    "# Rectangle: defined by width and height\n",
    "rect = cp.Rectangle(4, 3)  # 4 units wide, 3 units tall\n",
    "\n",
    "# Disk: defined by radius\n",
    "disk = cp.Disk(2)  # radius = 2\n",
    "\n",
    "# Annulus: defined by inner and outer radii\n",
    "annulus = cp.Annulus(1, 2)  # inner radius = 1, outer radius = 2\n",
    "\n",
    "# Let's visualize these domains\n",
    "fig, axes = plt.subplots(1, 3, figsize=(15, 5))\n",
    "\n",
    "# Define a simple function for visualization\n",
    "f = lambda z: z  # identity function shows the domain clearly\n",
    "\n",
    "cp.plot(rect, f, ax=axes[0], title=\"Rectangle(4, 3)\")\n",
    "cp.plot(disk, f, ax=axes[1], title=\"Disk(2)\")\n",
    "cp.plot(annulus, f, ax=axes[2], title=\"Annulus(1, 2)\")\n",
    "\n",
    "plt.tight_layout()\n",
    "plt.show()"
   ]
  },
  {
   "cell_type": "markdown",
   "metadata": {},
   "source": [
    "### Domain Centers\n",
    "\n",
    "By default, domains are centered at the origin. You can shift them to any point in the complex plane:"
   ]
  },
  {
   "cell_type": "code",
   "execution_count": null,
   "metadata": {},
   "outputs": [],
   "source": [
    "# Create domains at different centers\n",
    "disk_origin = cp.Disk(1, center=0)  # at origin\n",
    "disk_right = cp.Disk(1, center=2)   # at z = 2\n",
    "disk_up = cp.Disk(1, center=2j)     # at z = 2i\n",
    "disk_diagonal = cp.Disk(1, center=1+1j)  # at z = 1+i\n",
    "\n",
    "# Visualize with a more interesting function\n",
    "f = lambda z: (z - 1) / (z**2 + z + 1)\n",
    "\n",
    "fig, axes = plt.subplots(2, 2, figsize=(10, 10))\n",
    "axes = axes.flatten()\n",
    "\n",
    "domains = [disk_origin, disk_right, disk_up, disk_diagonal]\n",
    "titles = [\"Center at 0\", \"Center at 2\", \"Center at 2i\", \"Center at 1+i\"]\n",
    "\n",
    "for ax, domain, title in zip(axes, domains, titles):\n",
    "    cp.plot(domain, f, ax=ax, title=title, n=400)\n",
    "\n",
    "plt.tight_layout()\n",
    "plt.show()"
   ]
  },
  {
   "cell_type": "markdown",
   "metadata": {},
   "source": [
    "### Understanding Domain Meshes\n",
    "\n",
    "The mesh is the grid of complex numbers where the function is evaluated. Let's explore how it works:"
   ]
  },
  {
   "cell_type": "code",
   "execution_count": null,
   "metadata": {},
   "outputs": [],
   "source": [
    "# Create a small domain for demonstration\n",
    "small_rect = cp.Rectangle(2, 2)\n",
    "\n",
    "# Generate meshes with different resolutions\n",
    "mesh_5 = small_rect.mesh(5)   # 5x5 grid\n",
    "mesh_10 = small_rect.mesh(10) # 10x10 grid\n",
    "\n",
    "print(\"5x5 mesh:\")\n",
    "print(mesh_5)\n",
    "print(f\"\\nShape: {mesh_5.shape}\")\n",
    "print(f\"Total points: {mesh_5.size}\")\n",
    "\n",
    "# Visualize the effect of mesh resolution\n",
    "fig, axes = plt.subplots(1, 3, figsize=(15, 5))\n",
    "\n",
    "for ax, n, title in zip(axes, [10, 50, 200], [\"n=10 (coarse)\", \"n=50 (medium)\", \"n=200 (fine)\"]):\n",
    "    cp.plot(small_rect, f, ax=ax, n=n, title=title)\n",
    "\n",
    "plt.tight_layout()\n",
    "plt.show()"
   ]
  },
  {
   "cell_type": "markdown",
   "metadata": {},
   "source": [
    "### Viewing Windows: Square vs. Rectangular\n",
    "\n",
    "By default, complexplorer uses square viewing windows for aesthetic reasons. You can override this behavior:"
   ]
  },
  {
   "cell_type": "code",
   "execution_count": null,
   "metadata": {},
   "outputs": [],
   "source": [
    "# Create rectangles with different aspect ratios\n",
    "rect_wide = cp.Rectangle(6, 2, square=False)  # Natural aspect ratio\n",
    "rect_wide_square = cp.Rectangle(6, 2, square=True)  # Forced square window\n",
    "\n",
    "fig, axes = plt.subplots(1, 2, figsize=(12, 6))\n",
    "\n",
    "cp.plot(rect_wide, f, ax=axes[0], title=\"Rectangle(6, 2, square=False)\")\n",
    "cp.plot(rect_wide_square, f, ax=axes[1], title=\"Rectangle(6, 2, square=True)\")\n",
    "\n",
    "# Print window information\n",
    "print(\"Natural window:\")\n",
    "print(f\"  Real: {rect_wide.window_real}\")\n",
    "print(f\"  Imag: {rect_wide.window_imag}\")\n",
    "print(\"\\nSquare window:\")\n",
    "print(f\"  Real: {rect_wide_square.window_real}\")\n",
    "print(f\"  Imag: {rect_wide_square.window_imag}\")\n",
    "\n",
    "plt.tight_layout()\n",
    "plt.show()"
   ]
  },
  {
   "cell_type": "markdown",
   "metadata": {},
   "source": [
    "## Part 2: Domain Composition\n",
    "\n",
    "### Unions and Intersections\n",
    "\n",
    "You can create complex domains by combining simpler ones:"
   ]
  },
  {
   "cell_type": "code",
   "execution_count": null,
   "metadata": {},
   "outputs": [],
   "source": [
    "# Create overlapping disks\n",
    "disk1 = cp.Disk(1.5, center=-0.5)\n",
    "disk2 = cp.Disk(1.5, center=0.5)\n",
    "\n",
    "# Union: points in either disk\n",
    "union = disk1.union(disk2)\n",
    "\n",
    "# Intersection: points in both disks\n",
    "intersection = disk1.intersection(disk2)\n",
    "\n",
    "# Visualize\n",
    "fig, axes = plt.subplots(1, 3, figsize=(15, 5))\n",
    "\n",
    "cp.plot(union, f, ax=axes[0], title=\"Union of two disks\")\n",
    "cp.plot(intersection, f, ax=axes[1], title=\"Intersection of two disks\")\n",
    "\n",
    "# Create a more complex shape\n",
    "rect = cp.Rectangle(3, 1)\n",
    "complex_domain = union.intersection(rect)\n",
    "cp.plot(complex_domain, f, ax=axes[2], title=\"(Union of disks) ∩ Rectangle\")\n",
    "\n",
    "plt.tight_layout()\n",
    "plt.show()"
   ]
  },
  {
   "cell_type": "markdown",
   "metadata": {},
   "source": [
    "### Creating Artistic Domains\n",
    "\n",
    "Let's create some interesting patterns using domain composition:"
   ]
  },
  {
   "cell_type": "code",
   "execution_count": null,
   "metadata": {},
   "outputs": [],
   "source": [
    "def create_flower_domain(n_petals=6, petal_radius=0.8, center_radius=0.3):\n",
    "    \"\"\"Create a flower-shaped domain.\"\"\"\n",
    "    # Start with central disk\n",
    "    flower = cp.Disk(center_radius)\n",
    "    \n",
    "    # Add petals\n",
    "    for k in range(n_petals):\n",
    "        angle = 2 * np.pi * k / n_petals\n",
    "        petal_center = center_radius * np.exp(1j * angle)\n",
    "        petal = cp.Disk(petal_radius, center=petal_center)\n",
    "        flower = flower.union(petal)\n",
    "    \n",
    "    return flower\n",
    "\n",
    "def create_gear_domain(n_teeth=8, inner_radius=0.5, outer_radius=1.5):\n",
    "    \"\"\"Create a gear-shaped domain.\"\"\"\n",
    "    # Start with annulus\n",
    "    gear = cp.Annulus(inner_radius, outer_radius)\n",
    "    \n",
    "    # Add teeth\n",
    "    for k in range(n_teeth):\n",
    "        angle = 2 * np.pi * k / n_teeth\n",
    "        tooth_center = outer_radius * np.exp(1j * angle)\n",
    "        tooth = cp.Rectangle(0.4, 0.8, center=tooth_center)\n",
    "        gear = gear.union(tooth)\n",
    "    \n",
    "    return gear\n",
    "\n",
    "# Create and visualize artistic domains\n",
    "flower = create_flower_domain()\n",
    "gear = create_gear_domain()\n",
    "\n",
    "fig, axes = plt.subplots(1, 2, figsize=(12, 6))\n",
    "\n",
    "cp.plot(flower, f, ax=axes[0], title=\"Flower Domain\", n=600)\n",
    "cp.plot(gear, f, ax=axes[1], title=\"Gear Domain\", n=600)\n",
    "\n",
    "plt.tight_layout()\n",
    "plt.show()"
   ]
  },
  {
   "cell_type": "markdown",
   "metadata": {},
   "source": [
    "## Part 3: Color Maps\n",
    "\n",
    "### Understanding Phase Portraits\n",
    "\n",
    "Color maps in complexplorer convert complex values to colors. The most fundamental is the phase portrait, which maps the argument (angle) of a complex number to a color:"
   ]
  },
  {
   "cell_type": "code",
   "execution_count": null,
   "metadata": {},
   "outputs": [],
   "source": [
    "# Create a domain for color map demonstrations\n",
    "demo_domain = cp.Rectangle(4, 4)\n",
    "\n",
    "# Basic phase portrait\n",
    "fig, axes = plt.subplots(2, 3, figsize=(15, 10))\n",
    "axes = axes.flatten()\n",
    "\n",
    "# Different phase portrait configurations\n",
    "configs = [\n",
    "    (cp.Phase(), \"Basic Phase Portrait\"),\n",
    "    (cp.Phase(n_phi=6), \"Enhanced Phase (6 sectors)\"),\n",
    "    (cp.Phase(n_phi=12), \"Enhanced Phase (12 sectors)\"),\n",
    "    (cp.Phase(r_linear_step=0.5), \"Linear Modulus Enhancement\"),\n",
    "    (cp.Phase(r_log_base=2), \"Logarithmic Modulus Enhancement\"),\n",
    "    (cp.Phase(n_phi=6, r_linear_step=0.5), \"Phase + Modulus Enhancement\")\n",
    "]\n",
    "\n",
    "for ax, (cmap, title) in zip(axes, configs):\n",
    "    cp.plot(demo_domain, f, cmap=cmap, ax=ax, title=title, n=400)\n",
    "\n",
    "plt.tight_layout()\n",
    "plt.show()"
   ]
  },
  {
   "cell_type": "markdown",
   "metadata": {},
   "source": [
    "### The v_base Parameter\n",
    "\n",
    "The `v_base` parameter controls the darkness of enhancement lines:"
   ]
  },
  {
   "cell_type": "code",
   "execution_count": null,
   "metadata": {},
   "outputs": [],
   "source": [
    "fig, axes = plt.subplots(1, 4, figsize=(16, 4))\n",
    "\n",
    "v_values = [0.2, 0.4, 0.6, 0.8]\n",
    "for ax, v in zip(axes, v_values):\n",
    "    cmap = cp.Phase(n_phi=6, r_linear_step=0.5, v_base=v)\n",
    "    cp.plot(demo_domain, f, cmap=cmap, ax=ax, title=f\"v_base = {v}\", n=400)\n",
    "\n",
    "plt.tight_layout()\n",
    "plt.show()"
   ]
  },
  {
   "cell_type": "markdown",
   "metadata": {},
   "source": [
    "### Chessboard Patterns\n",
    "\n",
    "Chessboard patterns help visualize how functions transform grids:"
   ]
  },
  {
   "cell_type": "code",
   "execution_count": null,
   "metadata": {},
   "outputs": [],
   "source": [
    "fig, axes = plt.subplots(2, 2, figsize=(12, 12))\n",
    "\n",
    "# Cartesian chessboard with different spacings\n",
    "cp.plot(demo_domain, f, cmap=cp.Chessboard(spacing=0.5), \n",
    "        ax=axes[0,0], title=\"Cartesian Chessboard (spacing=0.5)\", n=600)\n",
    "cp.plot(demo_domain, f, cmap=cp.Chessboard(spacing=0.25, center=1), \n",
    "        ax=axes[0,1], title=\"Cartesian Chessboard (spacing=0.25, center=1)\", n=600)\n",
    "\n",
    "# Polar chessboard patterns\n",
    "cp.plot(demo_domain, f, cmap=cp.PolarChessboard(n_phi=8, spacing=0.3), \n",
    "        ax=axes[1,0], title=\"Polar Chessboard (linear)\", n=600)\n",
    "cp.plot(demo_domain, f, cmap=cp.PolarChessboard(n_phi=6, r_log=2), \n",
    "        ax=axes[1,1], title=\"Polar Chessboard (logarithmic)\", n=600)\n",
    "\n",
    "plt.tight_layout()\n",
    "plt.show()"
   ]
  },
  {
   "cell_type": "markdown",
   "metadata": {},
   "source": [
    "### Logarithmic Rings\n",
    "\n",
    "LogRings create concentric circles that help visualize the modulus of complex functions:"
   ]
  },
  {
   "cell_type": "code",
   "execution_count": null,
   "metadata": {},
   "outputs": [],
   "source": [
    "fig, axes = plt.subplots(1, 3, figsize=(15, 5))\n",
    "\n",
    "# Different log spacings\n",
    "spacings = [0.1, 0.2, 0.5]\n",
    "for ax, spacing in zip(axes, spacings):\n",
    "    cp.plot(demo_domain, f, cmap=cp.LogRings(log_spacing=spacing), \n",
    "            ax=ax, title=f\"LogRings (spacing={spacing})\", n=600)\n",
    "\n",
    "plt.tight_layout()\n",
    "plt.show()"
   ]
  },
  {
   "cell_type": "markdown",
   "metadata": {},
   "source": [
    "## Part 4: Advanced Techniques\n",
    "\n",
    "### Custom Out-of-Domain Colors\n",
    "\n",
    "You can customize how regions outside the domain appear:"
   ]
  },
  {
   "cell_type": "code",
   "execution_count": null,
   "metadata": {},
   "outputs": [],
   "source": [
    "# Create a small domain to show out-of-domain regions\n",
    "small_disk = cp.Disk(1.5)\n",
    "\n",
    "fig, axes = plt.subplots(1, 3, figsize=(15, 5))\n",
    "\n",
    "# Different out-of-domain colors (HSV format)\n",
    "colors = [\n",
    "    ((0, 0, 0.9), \"Light gray (default)\"),\n",
    "    ((0, 0, 0), \"Black\"),\n",
    "    ((0.6, 0.3, 0.8), \"Light blue\")\n",
    "]\n",
    "\n",
    "for ax, (color, name) in zip(axes, colors):\n",
    "    cmap = cp.Phase(n_phi=6, out_of_domain_hsv=color)\n",
    "    cp.plot(small_disk, f, cmap=cmap, ax=ax, title=f\"Out-of-domain: {name}\", n=400)\n",
    "\n",
    "plt.tight_layout()\n",
    "plt.show()"
   ]
  },
  {
   "cell_type": "markdown",
   "metadata": {},
   "source": [
    "### Combining Domains and Color Maps for Analysis\n",
    "\n",
    "Let's analyze a function with poles and zeros using different visualization techniques:"
   ]
  },
  {
   "cell_type": "code",
   "execution_count": null,
   "metadata": {},
   "outputs": [],
   "source": [
    "# Function with known zeros and poles\n",
    "# Zeros at z = 1, z = -1\n",
    "# Poles at z = i, z = -i\n",
    "g = lambda z: (z**2 - 1) / (z**2 + 1)\n",
    "\n",
    "# Create domains around critical points\n",
    "domain_zero1 = cp.Disk(0.8, center=1)\n",
    "domain_zero2 = cp.Disk(0.8, center=-1)\n",
    "domain_pole1 = cp.Disk(0.8, center=1j)\n",
    "domain_pole2 = cp.Disk(0.8, center=-1j)\n",
    "\n",
    "fig, axes = plt.subplots(2, 4, figsize=(16, 8))\n",
    "\n",
    "# Analyze each critical point with different color maps\n",
    "domains = [domain_zero1, domain_zero2, domain_pole1, domain_pole2]\n",
    "titles = [\"Zero at z=1\", \"Zero at z=-1\", \"Pole at z=i\", \"Pole at z=-i\"]\n",
    "\n",
    "# Phase portrait\n",
    "for i, (domain, title) in enumerate(zip(domains, titles)):\n",
    "    cp.plot(domain, g, cmap=cp.Phase(n_phi=12), ax=axes[0,i], \n",
    "            title=title + \" (Phase)\", n=400)\n",
    "\n",
    "# Polar chessboard\n",
    "for i, domain in enumerate(domains):\n",
    "    cp.plot(domain, g, cmap=cp.PolarChessboard(n_phi=12, r_log=1.5), \n",
    "            ax=axes[1,i], title=\"Polar Chessboard\", n=400)\n",
    "\n",
    "plt.tight_layout()\n",
    "plt.show()"
   ]
  },
  {
   "cell_type": "markdown",
   "metadata": {},
   "source": [
    "## Summary and Best Practices\n",
    "\n",
    "### Domain Selection\n",
    "- Use **Rectangle** for general exploration\n",
    "- Use **Disk** to focus on behavior around a point\n",
    "- Use **Annulus** to exclude singularities at the center\n",
    "- Combine domains for complex regions\n",
    "\n",
    "### Color Map Selection\n",
    "- **Phase portraits**: Best for understanding zeros, poles, and branch cuts\n",
    "- **Chessboard patterns**: Great for visualizing conformal properties\n",
    "- **LogRings**: Excellent for understanding growth rates\n",
    "\n",
    "### Performance Tips\n",
    "- Start with low `n` values (100-200) for exploration\n",
    "- Increase to 400-600 for publication-quality images\n",
    "- Use domain composition sparingly for 3D plots (computationally expensive)\n",
    "\n",
    "### Next Steps\n",
    "- Experiment with your own functions\n",
    "- Try creating custom domain shapes\n",
    "- Combine multiple visualizations to gain deeper insights\n",
    "- See the [gallery](../docs/gallery/README.md) for more examples!"
   ]
  },
  {
   "cell_type": "markdown",
   "metadata": {},
   "source": []
  }
 ],
 "metadata": {
  "kernelspec": {
   "display_name": "complexplorer",
   "language": "python",
   "name": "python3"
  },
  "language_info": {
   "codemirror_mode": {
    "name": "ipython",
    "version": 3
   },
   "file_extension": ".py",
   "mimetype": "text/x-python",
   "name": "python",
   "nbconvert_exporter": "python",
   "pygments_lexer": "ipython3",
   "version": "3.12.3"
  }
 },
 "nbformat": 4,
 "nbformat_minor": 4
}
