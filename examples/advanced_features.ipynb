{
 "cells": [
  {
   "cell_type": "markdown",
   "metadata": {},
   "source": [
    "# Advanced Features in Complexplorer\n",
    "\n",
    "This notebook explores the advanced capabilities of complexplorer, including:\n",
    "\n",
    "1. All colormap types and their uses\n",
    "2. High-performance 3D visualization with PyVista\n",
    "3. Riemann sphere projections\n",
    "4. Domain composition and custom domains\n",
    "5. STL export for 3D printing\n",
    "6. Performance optimization techniques"
   ]
  },
  {
   "cell_type": "code",
   "execution_count": null,
   "metadata": {},
   "outputs": [],
   "source": "import numpy as np\nimport matplotlib.pyplot as plt\nfrom matplotlib.gridspec import GridSpec\n\n# Core imports - simplified!\nimport complexplorer as cp\n\n# STL export (keeping separate as it's a specific submodule)\nfrom complexplorer.export.stl import OrnamentGenerator, create_ornament\n\nprint(\"✓ All imports successful\")"
  },
  {
   "cell_type": "markdown",
   "metadata": {},
   "source": [
    "## 1. Comprehensive Colormap Guide\n",
    "\n",
    "Complexplorer offers various colormaps, each revealing different aspects of complex functions."
   ]
  },
  {
   "cell_type": "code",
   "execution_count": null,
   "metadata": {},
   "outputs": [],
   "source": "# Test function with interesting features\ndef f(z):\n    return (z**3 - 1) / (z**3 + 1)\n\ndomain = cp.Rectangle(3, 3)"
  },
  {
   "cell_type": "markdown",
   "metadata": {},
   "source": [
    "### Phase Portraits"
   ]
  },
  {
   "cell_type": "code",
   "execution_count": null,
   "metadata": {},
   "outputs": [],
   "source": "# Different phase portrait configurations\nphase_configs = [\n    (\"Basic Phase\", cp.Phase()),\n    (\"Phase Enhanced\\n(8 sectors)\", cp.Phase(n_phi=8)),\n    (\"Modulus Enhanced\\n(r_step=0.4)\", cp.Phase(r_linear_step=0.4, v_base=0.5)),\n    (\"Auto-scaled\\n(n_phi=6)\", cp.Phase(n_phi=6, auto_scale_r=True, v_base=0.4)),\n    (\"Logarithmic\\n(base=2)\", cp.Phase(n_phi=6, r_log_base=2.0, v_base=0.5)),\n    (\"Fine Detail\\n(n_phi=12)\", cp.Phase(n_phi=12, auto_scale_r=True, scale_radius=0.5, v_base=0.3))\n]\n\nfig, axes = plt.subplots(2, 3, figsize=(15, 10))\naxes = axes.flatten()\n\nfor ax, (title, cmap) in zip(axes, phase_configs):\n    cp.plot(domain, f, cmap=cmap, ax=ax, n=150)\n    ax.set_title(title)\n\nplt.suptitle(r\"Phase Portrait Variations: $f(z) = \\frac{z^3 - 1}{z^3 + 1}$\", fontsize=16)\nplt.tight_layout()\nplt.show()"
  },
  {
   "cell_type": "markdown",
   "metadata": {},
   "source": [
    "### Chessboard Patterns"
   ]
  },
  {
   "cell_type": "code",
   "execution_count": null,
   "metadata": {},
   "outputs": [],
   "source": "# Chessboard patterns show how functions transform grids\nchessboard_configs = [\n    (\"Cartesian\\n(spacing=0.25)\", cp.Chessboard(spacing=0.25)),\n    (\"Cartesian\\n(spacing=0.5)\", cp.Chessboard(spacing=0.5)),\n    (\"Polar Linear\\n(n_phi=8, r=0.25)\", cp.PolarChessboard(n_phi=8, r_spacing=0.25)),\n    (\"Polar Log\\n(n_phi=6, base=e)\", cp.PolarChessboard(n_phi=6, r_log=np.e)),\n]\n\nfig, axes = plt.subplots(2, 2, figsize=(10, 10))\naxes = axes.flatten()\n\nfor ax, (title, cmap) in zip(axes, chessboard_configs):\n    cp.plot(domain, f, cmap=cmap, ax=ax, n=200)\n    ax.set_title(title)\n\nplt.suptitle(\"Chessboard Patterns\", fontsize=16)\nplt.tight_layout()\nplt.show()"
  },
  {
   "cell_type": "markdown",
   "metadata": {},
   "source": [
    "### Logarithmic Rings"
   ]
  },
  {
   "cell_type": "code",
   "execution_count": null,
   "metadata": {},
   "outputs": [],
   "source": "# Logarithmic rings highlight magnitude structure\nfig, (ax1, ax2) = plt.subplots(1, 2, figsize=(12, 5))\n\n# Function with interesting magnitude behavior\ng = lambda z: np.exp(1/z) if z != 0 else 0\n\n# Domain excluding origin\nann = cp.Annulus(0.1, 2.0)\n\ncp.pair_plot(ann, g, cmap=cp.LogRings(base=2.0), n=200)\nfig.suptitle(r\"Logarithmic Rings: $f(z) = e^{1/z}$\", fontsize=14)\nplt.show()"
  },
  {
   "cell_type": "markdown",
   "metadata": {},
   "source": [
    "## 2. High-Performance 3D with PyVista\n",
    "\n",
    "PyVista provides stunning 3D visualizations that are 15-30x faster than matplotlib.\n",
    "\n",
    "**Remember**: Always use `notebook=False` for high-quality output!"
   ]
  },
  {
   "cell_type": "markdown",
   "metadata": {},
   "source": [
    "### 3D Landscapes"
   ]
  },
  {
   "cell_type": "code",
   "execution_count": null,
   "metadata": {},
   "outputs": [],
   "source": "# Beautiful 3D landscape\nprint(\"Opening external window for high-quality 3D visualization...\")\n\ncp.plot_landscape_pv(\n    domain=cp.Rectangle(3, 3),\n    func=lambda z: (z**2 - 1) / (z**2 + 1),\n    cmap=cp.Phase(n_phi=6, auto_scale_r=True, v_base=0.4),\n    resolution=150,\n    z_scale=0.4,\n    notebook=False,  # External window for quality\n    show=True\n)\n\nprint(\"✓ Use mouse to interact: rotate, zoom, pan\")\nprint(\"✓ Press 'q' to close the window\")"
  },
  {
   "cell_type": "markdown",
   "metadata": {},
   "source": [
    "### Side-by-Side 3D Comparison"
   ]
  },
  {
   "cell_type": "code",
   "execution_count": null,
   "metadata": {},
   "outputs": [],
   "source": "# Compare domain and codomain in 3D\nprint(\"Opening side-by-side 3D comparison...\")\n\ncp.pair_plot_landscape_pv(\n    domain=cp.Disk(2),\n    func=lambda z: z**3 - z,\n    cmap=cp.PolarChessboard(n_phi=6, r_spacing=0.25),\n    resolution=100,\n    notebook=False,\n    show=True\n)\n\nprint(\"✓ Notice how the function transforms the polar grid\")"
  },
  {
   "cell_type": "markdown",
   "metadata": {},
   "source": [
    "### Performance Comparison"
   ]
  },
  {
   "cell_type": "code",
   "execution_count": null,
   "metadata": {},
   "outputs": [],
   "source": "import time\n\n# Test function and domain\ntest_func = lambda z: np.sin(z) * np.exp(-abs(z)/4)\ntest_domain = cp.Rectangle(4, 4)\ntest_cmap = cp.Phase(n_phi=8, auto_scale_r=True)\n\n# Time PyVista\nprint(\"Timing PyVista...\")\nstart = time.time()\ncp.plot_landscape_pv(\n    test_domain, test_func, cmap=test_cmap, \n    resolution=150, notebook=False, show=False, off_screen=True\n)\npyvista_time = time.time() - start\n\n# Time matplotlib\nprint(\"Timing matplotlib...\")\nstart = time.time()\nfig = plt.figure()\nax = fig.add_subplot(111, projection='3d')\ncp.plot_landscape(test_domain, test_func, cmap=test_cmap, ax=ax, resolution=150)\nplt.close()\nmatplotlib_time = time.time() - start\n\nprint(f\"\\nResults:\")\nprint(f\"PyVista: {pyvista_time:.2f}s\")\nprint(f\"Matplotlib: {matplotlib_time:.2f}s\")\nprint(f\"\\n🚀 PyVista is {matplotlib_time/pyvista_time:.1f}x faster!\")"
  },
  {
   "cell_type": "markdown",
   "metadata": {},
   "source": [
    "## 3. Riemann Sphere Projections\n",
    "\n",
    "The Riemann sphere allows us to visualize the entire extended complex plane, including the point at infinity."
   ]
  },
  {
   "cell_type": "code",
   "execution_count": null,
   "metadata": {},
   "outputs": [],
   "source": "# Function with a pole - perfect for Riemann sphere\ndef rational_func(z):\n    return (z**2 - 1) / (z**2 + 1)\n\nprint(\"Opening Riemann sphere visualization...\")\nprint(\"This function has poles at z = ±i\")\n\ncp.riemann_pv(\n    func=rational_func,\n    resolution=80,\n    cmap=cp.Phase(n_phi=8, auto_scale_r=True, v_base=0.4),\n    modulus_scaling='arctan',  # Good for functions with poles\n    scaling_params={'r_min': 0.3, 'r_max': 0.9},\n    notebook=False,\n    show=True\n)\n\nprint(\"\\n✓ The poles appear as 'pinches' on the sphere\")\nprint(\"✓ The point at infinity is at the north pole\")"
  },
  {
   "cell_type": "markdown",
   "metadata": {},
   "source": [
    "### Different Modulus Scaling Modes"
   ]
  },
  {
   "cell_type": "code",
   "execution_count": null,
   "metadata": {},
   "outputs": [],
   "source": "# Compare different modulus scaling modes\nscaling_modes = ['constant', 'arctan', 'logarithmic', 'linear_clamp']\n\nprint(\"Comparing modulus scaling modes...\")\nprint(\"(This will open 4 windows sequentially)\\n\")\n\nfor mode in scaling_modes:\n    print(f\"Showing {mode} scaling...\")\n    cp.riemann_pv(\n        func=lambda z: z**3 - z,\n        resolution=60,\n        modulus_scaling=mode,\n        title=f\"Modulus Scaling: {mode}\",\n        notebook=False,\n        show=True\n    )\n    print(f\"✓ {mode} scaling shown. Close window to continue.\\n\")"
  },
  {
   "cell_type": "markdown",
   "metadata": {},
   "source": [
    "## 4. Domain Composition\n",
    "\n",
    "Create complex domains by combining simple ones."
   ]
  },
  {
   "cell_type": "code",
   "execution_count": null,
   "metadata": {},
   "outputs": [],
   "source": "# Create interesting composite domains\nrect = cp.Rectangle(2, 2)\ndisk1 = cp.Disk(1.5, center=-1-1j)\ndisk2 = cp.Disk(1.5, center=1+1j)\n\n# Union: combine domains\nunion_domain = rect | disk1 | disk2\n\n# Intersection: only overlapping regions\nintersection_domain = rect & cp.Disk(2.5)\n\n# Visualize\nfig, axes = plt.subplots(1, 3, figsize=(15, 5))\n\n# Simple rectangle\ncp.plot(rect, f, ax=axes[0], resolution=150)\naxes[0].set_title(\"Simple Rectangle\")\n\n# Union\ncp.plot(union_domain, f, ax=axes[1], resolution=150)\naxes[1].set_title(\"Union: Rectangle + Two Disks\")\n\n# Intersection\ncp.plot(intersection_domain, f, ax=axes[2], resolution=150)\naxes[2].set_title(\"Intersection: Rectangle ∩ Large Disk\")\n\nplt.tight_layout()\nplt.show()"
  },
  {
   "cell_type": "markdown",
   "metadata": {},
   "source": [
    "### Domain Restriction for Numerical Stability"
   ]
  },
  {
   "cell_type": "code",
   "execution_count": null,
   "metadata": {},
   "outputs": [],
   "source": "# Function with essential singularity at origin\ndef exp_inv_z(z):\n    if abs(z) < 1e-10:\n        return 0\n    return np.exp(1/z)\n\n# Restrict domain to avoid singularity\nsafe_domain = cp.Annulus(0.2, 3.0)  # Exclude origin\n\n# Visualize with 3D\nprint(\"Visualizing essential singularity with domain restriction...\")\n\ncp.plot_landscape_pv(\n    domain=safe_domain,\n    func=exp_inv_z,\n    cmap=cp.Phase(n_phi=12, auto_scale_r=True, v_base=0.3),\n    resolution=120,\n    z_scale=0.3,\n    notebook=False,\n    show=True\n)\n\nprint(\"\\n✓ Domain restriction prevents numerical issues near z=0\")"
  },
  {
   "cell_type": "markdown",
   "metadata": {},
   "source": [
    "## 5. STL Export for 3D Printing\n",
    "\n",
    "Transform your visualizations into physical objects!"
   ]
  },
  {
   "cell_type": "code",
   "execution_count": null,
   "metadata": {},
   "outputs": [],
   "source": "# Function suitable for 3D printing\nprint_func = lambda z: (z**3 - 1) / (z**3 + 1)\n\n# Create ornament generator\ngenerator = OrnamentGenerator(\n    func=print_func,\n    resolution=80,  # Balance quality vs file size\n    scaling='arctan',  # Good for bounded output\n    scaling_params={'r_min': 0.4, 'r_max': 0.9},\n    cmap=cp.Phase(n_phi=8, auto_scale_r=True)\n)\n\n# Generate the ornament\nprint(\"Generating 3D mesh...\")\noutput_file = generator.generate_ornament(\n    output_file='complex_ornament.stl',\n    size_mm=60,\n    smooth=True,\n    verbose=True\n)\n\nprint(f\"\\n✓ STL file saved: {output_file}\")"
  },
  {
   "cell_type": "markdown",
   "metadata": {},
   "source": [
    "### Save STL File"
   ]
  },
  {
   "cell_type": "code",
   "execution_count": null,
   "metadata": {},
   "outputs": [],
   "source": "# Preview the generated ornament\nimport os\n\nprint(\"Opening preview of the ornament...\")\n\n# Create another generator for preview\npreview_gen = OrnamentGenerator(\n    func=print_func,\n    resolution=60,\n    scaling='arctan',\n    scaling_params={'r_min': 0.4, 'r_max': 0.9}\n)\n\n# Preview\nplotter = preview_gen.preview(\n    size_mm=60,\n    notebook=False,\n    show=True\n)\n\nprint(\"\\n3D Printing Tips:\")\nprint(\"- Layer height: 0.1-0.2mm for good detail\")\nprint(\"- Infill: 15-20% is usually sufficient\")\nprint(\"- Support: Not needed (spherical shape)\")\nprint(\"- Print time: ~2-4 hours at 60mm\")"
  },
  {
   "cell_type": "markdown",
   "metadata": {},
   "source": [
    "### Quick STL Generation"
   ]
  },
  {
   "cell_type": "code",
   "execution_count": null,
   "metadata": {},
   "outputs": [],
   "source": [
    "# One-liner STL generation\n",
    "quick_file = create_ornament(\n",
    "    func=lambda z: z**4 - z**2 + 1,\n",
    "    filename=\"quick_ornament.stl\",\n",
    "    size_mm=50,\n",
    "    resolution=60,\n",
    "    scaling='adaptive',\n",
    "    verbose=False\n",
    ")\n",
    "\n",
    "print(f\"✓ Quick ornament saved: {quick_file}\")"
   ]
  },
  {
   "cell_type": "markdown",
   "metadata": {},
   "source": [
    "## 6. Publication-Quality Figures\n",
    "\n",
    "Create figures suitable for papers and presentations."
   ]
  },
  {
   "cell_type": "code",
   "execution_count": null,
   "metadata": {},
   "outputs": [],
   "source": "# High-resolution figure with custom layout\nfig = plt.figure(figsize=(12, 8), dpi=150)\ngs = GridSpec(2, 3, figure=fig, hspace=0.3, wspace=0.3)\n\n# Main function display\nax_main = fig.add_subplot(gs[0:2, 0:2])\ncp.plot(\n    cp.Rectangle(3, 3),\n    lambda z: (z**4 - 1) / (z**2 + 1),\n    cmap=cp.Phase(n_phi=8, auto_scale_r=True, v_base=0.4),\n    ax=ax_main,\n    resolution=300  # High resolution\n)\nax_main.set_title(r\"$f(z) = \\frac{z^4 - 1}{z^2 + 1}$\", fontsize=16)\n\n# Phase key\nax_key = fig.add_subplot(gs[0, 2])\ncp.plot(\n    cp.Disk(1),\n    lambda z: z,\n    cmap=cp.Phase(),\n    ax=ax_key,\n    resolution=100\n)\nax_key.set_title(\"Phase Key\", fontsize=12)\nax_key.set_xticks([])\nax_key.set_yticks([])\n\n# Modulus plot\nax_mod = fig.add_subplot(gs[1, 2])\ndomain = cp.Rectangle(3, 3)\nz = domain.mesh(100)\nf_vals = (z**4 - 1) / (z**2 + 1)\nmod = ax_mod.imshow(\n    np.abs(f_vals), \n    extent=[-1.5, 1.5, -1.5, 1.5],\n    cmap='viridis',\n    origin='lower'\n)\nax_mod.set_title(\"Modulus\", fontsize=12)\nax_mod.set_xlabel(\"Re(z)\")\nax_mod.set_ylabel(\"Im(z)\")\nplt.colorbar(mod, ax=ax_mod, fraction=0.046, pad=0.04)\n\n# Save for publication\nplt.savefig(\"publication_figure.png\", dpi=300, bbox_inches='tight')\nplt.savefig(\"publication_figure.pdf\", bbox_inches='tight')  # Vector format\nplt.show()\n\nprint(\"✓ Saved high-resolution PNG and PDF\")"
  },
  {
   "cell_type": "markdown",
   "metadata": {},
   "source": [
    "## Summary\n",
    "\n",
    "You've explored:\n",
    "1. ✓ All colormap types and their applications\n",
    "2. ✓ High-performance 3D with PyVista (15-30x faster!)\n",
    "3. ✓ Riemann sphere projections with modulus scaling\n",
    "4. ✓ Domain composition for complex regions\n",
    "5. ✓ STL export for 3D printing\n",
    "6. ✓ Publication-quality figure creation\n",
    "\n",
    "## Key Takeaways\n",
    "\n",
    "- **Always use `notebook=False`** with PyVista for quality\n",
    "- **Domain restriction** helps with numerical stability\n",
    "- **Auto-scaled phase portraits** create visually pleasing square cells\n",
    "- **Different colormaps** reveal different function properties\n",
    "- **STL export** transforms math into physical objects\n",
    "\n",
    "## Next Steps\n",
    "\n",
    "Check out `api_cookbook.ipynb` for:\n",
    "- Common function patterns and recipes\n",
    "- Performance optimization strategies\n",
    "- Best practices for different use cases"
   ]
  }
 ],
 "metadata": {
  "kernelspec": {
   "display_name": "Python 3",
   "language": "python",
   "name": "python3"
  },
  "language_info": {
   "codemirror_mode": {
    "name": "ipython",
    "version": 3
   },
   "file_extension": ".py",
   "mimetype": "text/x-python",
   "name": "python",
   "nbconvert_exporter": "python",
   "pygments_lexer": "ipython3",
   "version": "3.11.0"
  }
 },
 "nbformat": 4,
 "nbformat_minor": 4
}