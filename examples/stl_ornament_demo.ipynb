{
 "cells": [
  {
   "cell_type": "markdown",
   "metadata": {},
   "source": [
    "# STL Ornament Generation Demo\n",
    "\n",
    "This notebook demonstrates how to create 3D-printable STL files from complex function visualizations.\n",
    "\n",
    "## Workflow Overview\n",
    "1. Visualize the complex function in 2D\n",
    "2. Preview the 3D Riemann sphere\n",
    "3. Generate STL files for 3D printing\n",
    "4. Validate the mesh quality"
   ]
  },
  {
   "cell_type": "code",
   "execution_count": null,
   "metadata": {},
   "outputs": [],
   "source": [
    "import numpy as np\n",
    "import matplotlib.pyplot as plt\n",
    "import complexplorer as cp\n",
    "from complexplorer.stl_export import OrnamentGenerator\n",
    "import pyvista as pv"
   ]
  },
  {
   "cell_type": "markdown",
   "metadata": {},
   "source": [
    "## 1. Define and Visualize a Complex Function\n",
    "\n",
    "Let's start with a beautiful rational function:"
   ]
  },
  {
   "cell_type": "code",
   "execution_count": null,
   "metadata": {},
   "outputs": [],
   "source": [
    "# Define the complex function\n",
    "def f(z):\n",
    "    return (z**2 - 1) / (z**2 + 1)\n",
    "\n",
    "# Create a domain for visualization\n",
    "domain = cp.Rectangle(real=4, imag=4)\n",
    "\n",
    "# Choose a colormap\n",
    "cmap = cp.Phase(n_phi=12, auto_scale_r=True)\n",
    "\n",
    "# Visualize the function\n",
    "plt.figure(figsize=(10, 5))\n",
    "\n",
    "# Plot domain and codomain side by side\n",
    "cp.pair_plot(domain, f, cmap=cmap)\n",
    "plt.tight_layout()\n",
    "plt.show()"
   ]
  },
  {
   "cell_type": "markdown",
   "metadata": {},
   "source": [
    "## 2. Preview the 3D Riemann Sphere\n",
    "\n",
    "Before generating STL files, let's see how the function looks on the Riemann sphere:"
   ]
  },
  {
   "cell_type": "code",
   "execution_count": null,
   "metadata": {},
   "outputs": [],
   "source": [
    "# Create a 3D landscape view\n",
    "fig, (ax1, ax2) = plt.subplots(1, 2, figsize=(12, 5), subplot_kw={'projection': '3d'})\n",
    "\n",
    "# Analytic landscape\n",
    "cp.plot_landscape(domain, func=f, cmap=cmap, ax=ax1, z_max=5)\n",
    "ax1.set_title('Analytic Landscape')\n",
    "\n",
    "# Riemann sphere (matplotlib version for quick preview)\n",
    "cp.riemann(f, n=200, cmap=cmap, ax=ax2)\n",
    "ax2.set_title('Riemann Sphere')\n",
    "\n",
    "plt.tight_layout()\n",
    "plt.show()"
   ]
  },
  {
   "cell_type": "markdown",
   "metadata": {},
   "source": [
    "## 3. Generate STL Files\n",
    "\n",
    "Now let's create STL files for 3D printing. We'll use different scaling methods to show the options:"
   ]
  },
  {
   "cell_type": "markdown",
   "metadata": {},
   "source": [
    "### Example 1: Arctan Scaling (Smooth transitions)"
   ]
  },
  {
   "cell_type": "code",
   "execution_count": null,
   "metadata": {},
   "outputs": [],
   "source": [
    "# Create ornament generator with arctan scaling\n",
    "ornament1 = OrnamentGenerator(\n",
    "    func=f,\n",
    "    resolution=250,  # Medium resolution for balance of quality and speed\n",
    "    scaling='arctan',\n",
    "    scaling_params={'r_min': 0.2, 'r_max': 0.95},\n",
    "    cmap=cmap\n",
    ")\n",
    "\n",
    "# Generate the ornament\n",
    "print(\"Generating ornament with arctan scaling...\")\n",
    "top_file1, bottom_file1 = ornament1.generate_ornament(\n",
    "    cut_mode='real',  # Cut along real axis\n",
    "    size_mm=70,       # 70mm diameter\n",
    "    smooth=True,\n",
    "    smooth_iterations=25,\n",
    "    output_prefix='demo_arctan',\n",
    "    verbose=True\n",
    ")\n",
    "\n",
    "print(f\"\\nGenerated files:\\n  {top_file1}\\n  {bottom_file1}\")"
   ]
  },
  {
   "cell_type": "markdown",
   "metadata": {},
   "source": [
    "### Example 2: Linear Clamp Scaling (Sharp features)"
   ]
  },
  {
   "cell_type": "code",
   "execution_count": null,
   "metadata": {},
   "outputs": [],
   "source": [
    "# Different scaling for comparison\n",
    "ornament2 = OrnamentGenerator(\n",
    "    func=f,\n",
    "    resolution=150,\n",
    "    scaling='linear_clamp',\n",
    "    scaling_params={'m_max': 5, 'r_min': 0.3, 'r_max': 1.0},\n",
    "    cmap=cmap\n",
    ")\n",
    "\n",
    "print(\"Generating ornament with linear clamp scaling...\")\n",
    "top_file2, bottom_file2 = ornament2.generate_ornament(\n",
    "    cut_mode='angle:45',  # Cut at 45° angle\n",
    "    size_mm=70,\n",
    "    smooth=True,\n",
    "    smooth_iterations=25,\n",
    "    output_prefix='demo_linear',\n",
    "    verbose=False  # Less verbose this time\n",
    ")\n",
    "\n",
    "print(f\"\\nGenerated files:\\n  {top_file2}\\n  {bottom_file2}\")"
   ]
  },
  {
   "cell_type": "markdown",
   "metadata": {},
   "source": [
    "## 4. Validate Mesh Quality\n",
    "\n",
    "Let's check the quality of our generated meshes:"
   ]
  },
  {
   "cell_type": "code",
   "execution_count": null,
   "metadata": {},
   "outputs": [],
   "source": [
    "# Load and analyze one of the generated STL files\n",
    "mesh = pv.read(bottom_file1)\n",
    "\n",
    "print(\"Mesh Statistics:\")\n",
    "print(f\"  Vertices: {mesh.n_points:,}\")\n",
    "print(f\"  Triangles: {mesh.n_cells:,}\")\n",
    "print(f\"  File size: {mesh.n_points * 3 * 4 / 1024 / 1024:.2f} MB (approx)\")\n",
    "\n",
    "# Check bounds\n",
    "bounds = mesh.bounds\n",
    "print(f\"\\nDimensions (mm):\")\n",
    "print(f\"  X: {bounds[1] - bounds[0]:.1f}\")\n",
    "print(f\"  Y: {bounds[3] - bounds[2]:.1f}\")\n",
    "print(f\"  Z: {bounds[5] - bounds[4]:.1f}\")\n",
    "\n",
    "# Check if watertight\n",
    "edges = mesh.extract_feature_edges(boundary_edges=True)\n",
    "print(f\"\\nWatertight: {'Yes' if edges.n_cells == 0 else 'No ('+str(edges.n_cells)+' boundary edges)'}\")\n",
    "\n",
    "# Check bottom flatness\n",
    "z_min = bounds[4]\n",
    "bottom_points = mesh.points[np.abs(mesh.points[:, 2] - z_min) < 0.1]\n",
    "if len(bottom_points) > 0:\n",
    "    z_variance = np.var(bottom_points[:, 2])\n",
    "    print(f\"\\nBottom surface flatness:\")\n",
    "    print(f\"  Points: {len(bottom_points)}\")\n",
    "    print(f\"  Z variance: {z_variance:.2e}\")\n",
    "    print(f\"  Perfectly flat: {'Yes' if z_variance < 1e-10 else 'No'}\")"
   ]
  },
  {
   "cell_type": "markdown",
   "metadata": {},
   "source": [
    "## 5. Visualize the Generated Mesh (Optional - PyVista)\n",
    "\n",
    "If you want to see the final mesh in 3D:"
   ]
  },
  {
   "cell_type": "code",
   "execution_count": null,
   "metadata": {},
   "outputs": [],
   "source": [
    "# Note: This may not display properly in Jupyter due to backend issues\n",
    "# Run the visualization examples from the command line for best results\n",
    "\n",
    "# Load both halves\n",
    "top_mesh = pv.read(top_file1)\n",
    "bottom_mesh = pv.read(bottom_file1)\n",
    "\n",
    "# Create a simple plot\n",
    "plotter = pv.Plotter(shape=(1, 2), window_size=[1200, 600])\n",
    "\n",
    "# Top half\n",
    "plotter.subplot(0, 0)\n",
    "plotter.add_mesh(top_mesh, color='lightblue', show_edges=True, edge_color='gray')\n",
    "plotter.add_text('Top Half', position='upper_left')\n",
    "plotter.view_isometric()\n",
    "\n",
    "# Bottom half\n",
    "plotter.subplot(0, 1)\n",
    "plotter.add_mesh(bottom_mesh, color='lightcoral', show_edges=True, edge_color='gray')\n",
    "plotter.add_text('Bottom Half', position='upper_left')\n",
    "plotter.view_isometric()\n",
    "\n",
    "plotter.link_views()\n",
    "plotter.show()"
   ]
  },
  {
   "cell_type": "markdown",
   "metadata": {},
   "source": [
    "## 6. Try Different Functions\n",
    "\n",
    "Here are some interesting functions to experiment with:"
   ]
  },
  {
   "cell_type": "code",
   "execution_count": null,
   "metadata": {},
   "outputs": [],
   "source": [
    "# Function gallery\n",
    "functions = {\n",
    "    \"Möbius\": lambda z: (2*z + 1) / (z - 1j),\n",
    "    \"Cubic\": lambda z: z**3 - 1,\n",
    "    \"Sine\": lambda z: np.sin(z),\n",
    "    \"Rational\": lambda z: (z - 0.5) * (z + 0.5) / (z**2 + 0.25),\n",
    "    \"Exponential\": lambda z: np.exp(z/2)\n",
    "}\n",
    "\n",
    "# Quick visualization of all functions\n",
    "fig, axes = plt.subplots(2, 3, figsize=(12, 8))\n",
    "axes = axes.flatten()\n",
    "\n",
    "for idx, (name, func) in enumerate(functions.items()):\n",
    "    if idx < 6:\n",
    "        cp.plot(domain, func, cmap=cp.Phase(12), ax=axes[idx])\n",
    "        axes[idx].set_title(name)\n",
    "        axes[idx].set_xlabel('')\n",
    "        axes[idx].set_ylabel('')\n",
    "\n",
    "# Hide the last subplot if we have less than 6 functions\n",
    "if len(functions) < 6:\n",
    "    axes[-1].axis('off')\n",
    "\n",
    "plt.tight_layout()\n",
    "plt.show()\n",
    "\n",
    "print(\"To generate STL for any of these, just replace the function in the OrnamentGenerator!\")"
   ]
  },
  {
   "cell_type": "markdown",
   "metadata": {},
   "source": [
    "## 7. Tips for 3D Printing\n",
    "\n",
    "### Slicer Settings\n",
    "- **Layer Height**: 0.15-0.2mm for good quality\n",
    "- **Infill**: 20-30% is usually sufficient\n",
    "- **Supports**: Not needed! The flat bottom ensures good adhesion\n",
    "- **Print Speed**: Standard speeds work well\n",
    "\n",
    "### Assembly\n",
    "1. Print both halves separately\n",
    "2. Clean any stringing or artifacts\n",
    "3. Use cyanoacrylate glue or epoxy to join halves\n",
    "4. Optional: Add a loop or hook for hanging\n",
    "\n",
    "### Function Selection\n",
    "- Functions with poles create interesting \"spikes\" or \"valleys\"\n",
    "- Periodic functions (sin, cos) create wave patterns\n",
    "- Polynomials often have nice symmetry\n",
    "- Rational functions can combine multiple features\n",
    "\n",
    "### Troubleshooting\n",
    "- **Gaps in slicer**: Increase resolution or smoothing iterations\n",
    "- **Too large**: Reduce size_mm parameter\n",
    "- **Lost details**: Try different scaling methods\n",
    "- **Spikes**: Enable spike removal for high-frequency functions"
   ]
  },
  {
   "cell_type": "markdown",
   "metadata": {},
   "source": [
    "## 8. Advanced: Custom Color Patterns\n",
    "\n",
    "While STL files don't store color, different patterns create interesting textures:"
   ]
  },
  {
   "cell_type": "code",
   "execution_count": null,
   "metadata": {},
   "outputs": [],
   "source": [
    "# Example with different colormaps that affect the mesh structure\n",
    "colormaps = [\n",
    "    (\"Phase Portrait\", cp.Phase(n_phi=6)),\n",
    "    (\"Chessboard\", cp.Chessboard(spacing=0.5)),\n",
    "    (\"Polar Chessboard\", cp.PolarChessboard(n_phi=8, spacing=0.3)),\n",
    "    (\"Log Rings\", cp.LogRings(base=2))\n",
    "]\n",
    "\n",
    "# Visualize how different colormaps look\n",
    "fig, axes = plt.subplots(2, 2, figsize=(10, 10))\n",
    "axes = axes.flatten()\n",
    "\n",
    "test_func = lambda z: (z**2 - 1) / (z**2 + 1)\n",
    "\n",
    "for idx, (name, cmap) in enumerate(colormaps):\n",
    "    cp.plot(domain, test_func, cmap=cmap, ax=axes[idx])\n",
    "    axes[idx].set_title(name)\n",
    "\n",
    "plt.tight_layout()\n",
    "plt.show()\n",
    "\n",
    "print(\"Note: These patterns affect visualization but not the 3D shape.\")\n",
    "print(\"The shape is determined by the function's modulus and the scaling method.\")"
   ]
  },
  {
   "cell_type": "markdown",
   "metadata": {},
   "source": [
    "## Clean Up\n",
    "\n",
    "Remove the demo files if you don't need them:"
   ]
  },
  {
   "cell_type": "code",
   "execution_count": null,
   "metadata": {},
   "outputs": [],
   "source": [
    "# Uncomment to remove generated files\n",
    "# import os\n",
    "# for file in [top_file1, bottom_file1, top_file2, bottom_file2]:\n",
    "#     if os.path.exists(file):\n",
    "#         os.remove(file)\n",
    "#         print(f\"Removed {file}\")"
   ]
  }
 ],
 "metadata": {
  "kernelspec": {
   "display_name": "complexplorer",
   "language": "python",
   "name": "python3"
  },
  "language_info": {
   "codemirror_mode": {
    "name": "ipython",
    "version": 3
   },
   "file_extension": ".py",
   "mimetype": "text/x-python",
   "name": "python",
   "nbconvert_exporter": "python",
   "pygments_lexer": "ipython3",
   "version": "3.12.3"
  }
 },
 "nbformat": 4,
 "nbformat_minor": 4
}
