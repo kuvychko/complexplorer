{
 "cells": [
  {
   "cell_type": "markdown",
   "metadata": {},
   "source": [
    "# PyVista External Windows in Jupyter (Updated)\n",
    "\n",
    "This notebook shows how to create PyVista plots in external windows from Jupyter notebooks using current PyVista versions."
   ]
  },
  {
   "cell_type": "code",
   "execution_count": null,
   "metadata": {},
   "outputs": [],
   "source": [
    "import sys\n",
    "sys.path.append('..')\n",
    "\n",
    "import numpy as np\n",
    "import pyvista as pv\n",
    "import complexplorer as cp\n",
    "from complexplorer.cmap import Phase"
   ]
  },
  {
   "cell_type": "markdown",
   "metadata": {},
   "source": [
    "## Understanding PyVista Backends\n",
    "\n",
    "In newer PyVista versions, the available Jupyter backends are:\n",
    "- **'static'** - Static images inline\n",
    "- **'client'** - Client-side rendering\n",
    "- **'server'** - Server-side rendering\n",
    "- **'trame'** - Interactive inline (default)\n",
    "- **'html'** - HTML export\n",
    "- **'none'** - Disable Jupyter integration\n",
    "\n",
    "The 'qt' backend is no longer available for Jupyter."
   ]
  },
  {
   "cell_type": "code",
   "execution_count": null,
   "metadata": {},
   "outputs": [],
   "source": [
    "# Check available backends\n",
    "print(f\"Current backend: {pv.global_theme.jupyter_backend}\")\n",
    "print(f\"PyVista version: {pv.__version__}\")"
   ]
  },
  {
   "cell_type": "markdown",
   "metadata": {},
   "source": [
    "## Method 1: Force External Window with notebook=False\n",
    "\n",
    "The most reliable way to get external windows is to create plotters with `notebook=False`:"
   ]
  },
  {
   "cell_type": "code",
   "execution_count": null,
   "metadata": {},
   "outputs": [],
   "source": [
    "# Create a plotter that will use external window\n",
    "plotter = pv.Plotter(notebook=False)\n",
    "\n",
    "# Add a test sphere\n",
    "sphere = pv.Sphere()\n",
    "plotter.add_mesh(sphere, color='cyan', smooth_shading=True)\n",
    "plotter.add_text(\"External Window Test\", font_size=20)\n",
    "\n",
    "# This will open in a separate window\n",
    "plotter.show()"
   ]
  },
  {
   "cell_type": "markdown",
   "metadata": {},
   "source": [
    "## Method 2: Modify complexplorer Functions\n",
    "\n",
    "Since complexplorer functions don't expose the notebook parameter, we need a workaround:"
   ]
  },
  {
   "cell_type": "code",
   "execution_count": null,
   "metadata": {},
   "outputs": [],
   "source": [
    "# Temporarily set backend to 'none' to disable inline display\n",
    "original_backend = pv.global_theme.jupyter_backend\n",
    "pv.set_jupyter_backend('none')\n",
    "\n",
    "# Now plots will try to open externally\n",
    "f = lambda z: (z - 1) / (z + 1)\n",
    "\n",
    "try:\n",
    "    # This should open in external window\n",
    "    cp.riemann_pv(\n",
    "        f,\n",
    "        scaling='arctan',\n",
    "        cmap=Phase(12),\n",
    "        title=\"Möbius transformation - External Window\",\n",
    "        n_theta=150,\n",
    "        n_phi=150,\n",
    "        interactive=True\n",
    "    )\n",
    "except Exception as e:\n",
    "    print(f\"Error: {e}\")\n",
    "finally:\n",
    "    # Restore original backend\n",
    "    pv.set_jupyter_backend(original_backend)"
   ]
  },
  {
   "cell_type": "markdown",
   "metadata": {},
   "source": [
    "## Method 3: Create a Wrapper Function\n",
    "\n",
    "A better approach is to create wrapper functions that force external windows:"
   ]
  },
  {
   "cell_type": "code",
   "execution_count": null,
   "metadata": {},
   "outputs": [],
   "source": [
    "def riemann_external(func, **kwargs):\n",
    "    \"\"\"Wrapper to show riemann_pv in external window.\"\"\"\n",
    "    # Save current backend\n",
    "    original_backend = pv.global_theme.jupyter_backend\n",
    "    \n",
    "    try:\n",
    "        # Disable Jupyter integration\n",
    "        pv.set_jupyter_backend('none')\n",
    "        \n",
    "        # Call the function\n",
    "        return cp.riemann_pv(func, **kwargs)\n",
    "    finally:\n",
    "        # Restore backend\n",
    "        pv.set_jupyter_backend(original_backend)\n",
    "\n",
    "# Use the wrapper\n",
    "f = lambda z: z**2 - 1\n",
    "riemann_external(f, scaling='arctan', cmap=Phase(12), \n",
    "                 title=\"z² - 1 (External Window)\", n_theta=200, n_phi=200)"
   ]
  },
  {
   "cell_type": "markdown",
   "metadata": {},
   "source": [
    "## Method 4: Direct PyVista Approach\n",
    "\n",
    "For full control, create the visualization directly with PyVista:"
   ]
  },
  {
   "cell_type": "code",
   "execution_count": null,
   "metadata": {},
   "outputs": [],
   "source": [
    "from complexplorer.mesh_utils import RectangularSphereGenerator, stereographic_projection, ModulusScaling\n",
    "\n",
    "# Generate sphere mesh\n",
    "n_theta, n_phi = 100, 100\n",
    "generator = RectangularSphereGenerator(radius=1.0, n_theta=n_theta, n_phi=n_phi)\n",
    "sphere = generator.generate()\n",
    "\n",
    "# Apply stereographic projection and function\n",
    "points = sphere.points\n",
    "x, y, z = points[:, 0], points[:, 1], points[:, 2]\n",
    "w = stereographic_projection(x, y, z, from_north=True)\n",
    "\n",
    "# Evaluate function\n",
    "f = lambda z: (z - 1) / (z + 1)\n",
    "f_vals = f(w)\n",
    "\n",
    "# Get colors\n",
    "cmap = Phase(12)\n",
    "rgb = cmap.rgb(f_vals.reshape(-1, 1)).squeeze()\n",
    "sphere[\"RGB\"] = rgb\n",
    "\n",
    "# Apply modulus scaling\n",
    "moduli = np.abs(f_vals)\n",
    "radii = ModulusScaling.arctan(moduli, 0.2, 1.0)\n",
    "scaled_points = points * radii[:, np.newaxis]\n",
    "sphere.points = scaled_points\n",
    "\n",
    "# Create external window plotter\n",
    "plotter = pv.Plotter(notebook=False, window_size=(1000, 1000))\n",
    "plotter.add_mesh(sphere, rgb=True, smooth_shading=True)\n",
    "plotter.add_text(\"Direct PyVista - External Window\", font_size=16)\n",
    "plotter.show()"
   ]
  },
  {
   "cell_type": "markdown",
   "metadata": {},
   "source": [
    "## Method 5: Running as a Script\n",
    "\n",
    "Another option is to save your visualization code as a Python script and run it:"
   ]
  },
  {
   "cell_type": "code",
   "execution_count": null,
   "metadata": {},
   "outputs": [],
   "source": [
    "# Save visualization code to a file\n",
    "script_content = '''\n",
    "import complexplorer as cp\n",
    "from complexplorer.cmap import Phase\n",
    "\n",
    "# Define function\n",
    "f = lambda z: (z**2 - 1) / (z**2 + 1)\n",
    "\n",
    "# Create high-quality visualization\n",
    "cp.riemann_pv(\n",
    "    f,\n",
    "    scaling='arctan',\n",
    "    cmap=Phase(12),\n",
    "    title=\"High Quality External Visualization\",\n",
    "    n_theta=200,\n",
    "    n_phi=200,\n",
    "    high_quality=True,\n",
    "    anti_aliasing=True\n",
    ")\n",
    "'''\n",
    "\n",
    "with open('temp_viz.py', 'w') as f:\n",
    "    f.write(script_content)\n",
    "\n",
    "print(\"Script saved as temp_viz.py\")\n",
    "print(\"Run it from terminal: python temp_viz.py\")"
   ]
  },
  {
   "cell_type": "code",
   "execution_count": null,
   "metadata": {},
   "outputs": [],
   "source": [
    "# Or run it directly from the notebook\n",
    "import subprocess\n",
    "subprocess.Popen(['python', 'temp_viz.py'])\n",
    "print(\"External window should open...\")"
   ]
  },
  {
   "cell_type": "markdown",
   "metadata": {},
   "source": [
    "## Comparison: Inline vs External\n",
    "\n",
    "Let's compare the quality difference:"
   ]
  },
  {
   "cell_type": "code",
   "execution_count": null,
   "metadata": {},
   "outputs": [],
   "source": [
    "# First show inline with trame (lower quality)\n",
    "pv.set_jupyter_backend('trame')\n",
    "\n",
    "f = lambda z: z**3 - 1\n",
    "print(\"Inline display (lower quality):\")\n",
    "cp.riemann_pv(f, scaling='arctan', cmap=Phase(12), \n",
    "              title=\"z³ - 1 (Inline)\", n_theta=100, n_phi=100)"
   ]
  },
  {
   "cell_type": "code",
   "execution_count": null,
   "metadata": {},
   "outputs": [],
   "source": [
    "# Now external (high quality)\n",
    "print(\"\\nFor comparison, run this for external window:\")\n",
    "print(\"riemann_external(f, scaling='arctan', cmap=Phase(12), title='z³ - 1 (External)', n_theta=200, n_phi=200)\")"
   ]
  },
  {
   "cell_type": "markdown",
   "metadata": {},
   "source": [
    "## Best Practices\n",
    "\n",
    "1. **For publication quality**: Always use external windows\n",
    "2. **For quick exploration**: Use inline display\n",
    "3. **For presentations**: Save high-res images from external windows\n",
    "4. **For documentation**: Use static backend for consistent appearance\n",
    "\n",
    "### Quality differences:\n",
    "- **External windows**: Full anti-aliasing, better shading, higher resolution\n",
    "- **Inline (trame)**: Compressed, limited resolution, some aliasing\n",
    "- **Static**: No interaction but consistent appearance"
   ]
  },
  {
   "cell_type": "code",
   "execution_count": null,
   "metadata": {},
   "outputs": [],
   "source": [
    "# Clean up\n",
    "import os\n",
    "if os.path.exists('temp_viz.py'):\n",
    "    os.remove('temp_viz.py')\n",
    "    print(\"Cleaned up temporary files\")"
   ]
  }
 ],
 "metadata": {
  "kernelspec": {
   "display_name": "Python 3",
   "language": "python",
   "name": "python3"
  },
  "language_info": {
   "codemirror_mode": {
    "name": "ipython",
    "version": 3
   },
   "file_extension": ".py",
   "mimetype": "text/x-python",
   "name": "python",
   "nbconvert_exporter": "python",
   "pygments_lexer": "ipython3",
   "version": "3.11.0"
  }
 },
 "nbformat": 4,
 "nbformat_minor": 4
}