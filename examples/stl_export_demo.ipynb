{
 "cells": [
  {
   "cell_type": "markdown",
   "metadata": {},
   "source": [
    "# STL Export Demo: From Visualization to 3D Print\n",
    "\n",
    "This notebook demonstrates how to export complex function visualizations as STL files for 3D printing.\n",
    "\n",
    "We'll:\n",
    "1. Visualize a complex function on the Riemann sphere\n",
    "2. Export it as an STL file suitable for 3D printing\n",
    "3. Explain the key settings and options"
   ]
  },
  {
   "cell_type": "code",
   "execution_count": null,
   "metadata": {},
   "outputs": [],
   "source": [
    "import complexplorer as cp\n",
    "import numpy as np\n",
    "\n",
    "# Check if PyVista is available\n",
    "try:\n",
    "    import pyvista as pv\n",
    "    print(\"✓ PyVista is installed - STL export will work!\")\n",
    "except ImportError:\n",
    "    print(\"✗ PyVista not found. Install with: pip install pyvista\")"
   ]
  },
  {
   "cell_type": "markdown",
   "metadata": {},
   "source": [
    "## Step 1: Define and Visualize a Complex Function\n",
    "\n",
    "Let's start with a beautiful rational function that has interesting features on the Riemann sphere."
   ]
  },
  {
   "cell_type": "code",
   "execution_count": null,
   "metadata": {},
   "outputs": [],
   "source": [
    "# Define our complex function\n",
    "def f(z):\n",
    "    \"\"\"A rational function with poles and zeros.\"\"\"\n",
    "    return (z**3 - 1) / (z**2 + z + 1)\n",
    "\n",
    "# Create a colormap for visualization\n",
    "cmap = cp.Phase(n_phi=12, auto_scale_r=True, v_base=0.4)\n",
    "\n",
    "print(\"Function: f(z) = (z³ - 1) / (z² + z + 1)\")\n",
    "print(\"This function has:\")\n",
    "print(\"- Zeros at the cube roots of unity: 1, e^(2πi/3), e^(4πi/3)\")\n",
    "print(\"- Poles where z² + z + 1 = 0\")"
   ]
  },
  {
   "cell_type": "code",
   "execution_count": null,
   "metadata": {},
   "outputs": [],
   "source": [
    "# Visualize on the Riemann sphere\n",
    "# Note: In Jupyter, we use trame backend which may have aliasing\n",
    "plotter = cp.riemann_pv(\n",
    "    f,\n",
    "    resolution=150,  # Lower resolution for notebook\n",
    "    cmap=cmap,\n",
    "    modulus_mode='arctan',  # Smooth compression of modulus\n",
    "    notebook=True,  # Jupyter display\n",
    "    window_size=(600, 600),\n",
    "    return_plotter=True\n",
    ")"
   ]
  },
  {
   "cell_type": "markdown",
   "metadata": {},
   "source": [
    "## Step 2: Export to STL for 3D Printing\n",
    "\n",
    "Now let's export this beautiful visualization as an STL file that can be 3D printed!"
   ]
  },
  {
   "cell_type": "code",
   "execution_count": null,
   "metadata": {},
   "outputs": [],
   "source": [
    "from complexplorer.export.stl import OrnamentGenerator\n",
    "\n",
    "# Create the ornament generator\n",
    "ornament = OrnamentGenerator(\n",
    "    func=f,\n",
    "    resolution=200,  # Higher resolution for quality STL\n",
    "    scaling='arctan',  # Modulus scaling method\n",
    "    cmap=cmap,\n",
    "    domain=None  # Use full sphere\n",
    ")\n",
    "\n",
    "print(\"Ornament generator created with:\")\n",
    "print(f\"- Resolution: {ornament.resolution} (affects mesh density)\")\n",
    "print(f\"- Scaling: {ornament.scaling} (how modulus maps to radius)\")\n",
    "print(f\"- Colormap: Enhanced phase portrait with {cmap.n_phi} sectors\")"
   ]
  },
  {
   "cell_type": "markdown",
   "metadata": {},
   "source": [
    "### Understanding the Settings\n",
    "\n",
    "**Resolution**: Controls the mesh density\n",
    "- Higher values (200-300) = smoother surface, larger file\n",
    "- Lower values (100-150) = faster generation, smaller file\n",
    "\n",
    "**Scaling Methods**:\n",
    "- `'constant'`: Traditional sphere (radius = 1)\n",
    "- `'arctan'`: Smooth compression, good for functions with poles\n",
    "- `'logarithmic'`: Emphasizes zeros and poles\n",
    "- `'linear_clamp'`: Linear up to a maximum\n",
    "\n",
    "**Domain**: Restrict which parts of the sphere to include\n",
    "- `None`: Full sphere\n",
    "- `cp.Disk(5)`: Only |z| < 5\n",
    "- `cp.Annulus(0.1, 10)`: Exclude origin (good for poles at z=0)"
   ]
  },
  {
   "cell_type": "code",
   "execution_count": null,
   "metadata": {},
   "outputs": [],
   "source": [
    "# Generate the STL file\n",
    "stl_file = ornament.generate_and_save(\n",
    "    filename='complex_ornament.stl',\n",
    "    size_mm=80,  # Physical size in millimeters\n",
    "    repair=True,  # Apply mesh repair for better print quality\n",
    "    verbose=True  # Show progress\n",
    ")\n",
    "\n",
    "print(f\"\\n✓ STL file created: {stl_file}\")\n",
    "print(f\"\\nYou can now import this file into your 3D printing software!\")"
   ]
  },
  {
   "cell_type": "markdown",
   "metadata": {},
   "source": [
    "## Step 3: Customize for Different Functions\n",
    "\n",
    "Let's try another function with different characteristics:"
   ]
  },
  {
   "cell_type": "code",
   "execution_count": null,
   "metadata": {},
   "outputs": [],
   "source": [
    "# A function with essential singularity\n",
    "def g(z):\n",
    "    \"\"\"Exponential function - essential singularity at infinity.\"\"\"\n",
    "    return np.exp(z)\n",
    "\n",
    "# For functions with rapid growth, restrict the domain\n",
    "restricted_domain = cp.Disk(3)  # Only consider |z| < 3\n",
    "\n",
    "# Create ornament with domain restriction\n",
    "ornament2 = OrnamentGenerator(\n",
    "    func=g,\n",
    "    resolution=150,\n",
    "    scaling='logarithmic',  # Good for exponential growth\n",
    "    cmap=cp.Phase(n_phi=8, auto_scale_r=True),\n",
    "    domain=restricted_domain\n",
    ")\n",
    "\n",
    "# Generate STL\n",
    "stl_file2 = ornament2.generate_and_save(\n",
    "    filename='exponential_ornament.stl',\n",
    "    size_mm=70,\n",
    "    repair=True,\n",
    "    verbose=True\n",
    ")\n",
    "\n",
    "print(f\"✓ Created: {stl_file2}\")\n",
    "print(\"\\nDomain restriction helps with:\")\n",
    "print(\"- Numerical stability\")\n",
    "print(\"- Avoiding infinite values\")\n",
    "print(\"- Creating cleaner 3D prints\")"
   ]
  },
  {
   "cell_type": "markdown",
   "metadata": {},
   "source": [
    "## Tips for 3D Printing\n",
    "\n",
    "1. **File Size**: STL files can be large. Resolution 150-200 is usually sufficient.\n",
    "\n",
    "2. **Printing Settings**:\n",
    "   - The base is automatically flattened for easy printing\n",
    "   - No supports needed for most ornaments\n",
    "   - Use 0.2mm layer height for good detail\n",
    "\n",
    "3. **Material Choice**:\n",
    "   - PLA works well for display pieces\n",
    "   - PETG for outdoor ornaments\n",
    "   - Resin printing for maximum detail\n",
    "\n",
    "4. **Scaling in Slicer**:\n",
    "   - The `size_mm` parameter sets the diameter\n",
    "   - You can rescale in your slicer software\n",
    "\n",
    "5. **Color**: \n",
    "   - STL files don't include color information\n",
    "   - Consider painting or using multi-color printing techniques"
   ]
  },
  {
   "cell_type": "markdown",
   "metadata": {},
   "source": [
    "## Advanced: Custom Scaling Function\n",
    "\n",
    "For complete control over the 3D shape, you can define custom scaling:"
   ]
  },
  {
   "cell_type": "code",
   "execution_count": null,
   "metadata": {},
   "outputs": [],
   "source": [
    "# Define a custom scaling function\n",
    "def custom_scale(moduli):\n",
    "    \"\"\"Custom scaling that emphasizes mid-range values.\"\"\"\n",
    "    # Sigmoid-like scaling\n",
    "    return 1 / (1 + np.exp(-2 * (moduli - 1)))\n",
    "\n",
    "# Create ornament with custom scaling\n",
    "ornament3 = OrnamentGenerator(\n",
    "    func=lambda z: z**4 - 1,  # Simple polynomial\n",
    "    resolution=180,\n",
    "    scaling='custom',\n",
    "    scaling_params={'scaling_func': custom_scale},\n",
    "    cmap=cp.Phase(n_phi=16, auto_scale_r=True)\n",
    ")\n",
    "\n",
    "# Generate\n",
    "stl_file3 = ornament3.generate_and_save(\n",
    "    filename='custom_scaling_ornament.stl',\n",
    "    size_mm=75,\n",
    "    verbose=True\n",
    ")\n",
    "\n",
    "print(f\"✓ Created with custom scaling: {stl_file3}\")"
   ]
  },
  {
   "cell_type": "markdown",
   "metadata": {},
   "source": [
    "## Summary\n",
    "\n",
    "You've learned how to:\n",
    "1. Visualize complex functions on the Riemann sphere\n",
    "2. Export them as STL files for 3D printing\n",
    "3. Control the appearance with scaling methods\n",
    "4. Handle difficult functions with domain restrictions\n",
    "5. Create custom scaling for artistic effects\n",
    "\n",
    "Now you can turn any complex function into a physical object!"
   ]
  }
 ],
 "metadata": {
  "kernelspec": {
   "display_name": "complexplorer",
   "language": "python",
   "name": "python3"
  },
  "language_info": {
   "codemirror_mode": {
    "name": "ipython",
    "version": 3
   },
   "file_extension": ".py",
   "mimetype": "text/x-python",
   "name": "python",
   "nbconvert_exporter": "python",
   "pygments_lexer": "ipython3",
   "version": "3.12.3"
  }
 },
 "nbformat": 4,
 "nbformat_minor": 4
}
