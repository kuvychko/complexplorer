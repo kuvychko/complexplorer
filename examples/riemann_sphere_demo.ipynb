{
 "cells": [
  {
   "cell_type": "markdown",
   "metadata": {},
   "source": [
    "# Riemann Sphere Visualization with PyVista\n",
    "\n",
    "This notebook demonstrates the Riemann sphere visualization in complexplorer using rectangular (latitude-longitude) meshing for optimal visual quality.\n",
    "\n",
    "## Key Features\n",
    "\n",
    "- **Rectangular meshing**: Provides smooth, high-quality rendering in PyVista\n",
    "- **Multiple modulus scaling options**: Visualize function magnitude in various ways\n",
    "- **High performance**: GPU-accelerated rendering\n",
    "- **Flexible resolution**: Control mesh density with n_theta and n_phi parameters\n",
    "- **Interactive or static**: Full 3D navigation or static images"
   ]
  },
  {
   "cell_type": "code",
   "execution_count": null,
   "metadata": {},
   "outputs": [],
   "source": [
    "import numpy as np\n",
    "import pyvista as pv\n",
    "import complexplorer as cp\n",
    "from complexplorer.plots_3d_pyvista import riemann_pv\n",
    "\n",
    "# IMPORTANT: If you get shader errors, use static backend instead of trame\n",
    "# Uncomment the line below to switch to static images (no shader issues)\n",
    "# pv.set_jupyter_backend('static')\n",
    "\n",
    "# Default is trame for interactive 3D\n",
    "pv.set_jupyter_backend('trame')\n",
    "print(f\"PyVista version: {pv.__version__}\")\n",
    "print(f\"Backend: {pv.global_theme.jupyter_backend}\")\n",
    "print(\"\\nIf you see black outputs or shader errors, change backend to 'static' above\")"
   ]
  },
  {
   "cell_type": "code",
   "execution_count": null,
   "metadata": {},
   "outputs": [],
   "source": [
    "# If you're getting shader errors or black outputs, run this cell:\n",
    "pv.set_jupyter_backend('static')\n",
    "print(\"Switched to static backend - no more shader errors!\")"
   ]
  },
  {
   "cell_type": "markdown",
   "metadata": {},
   "source": [
    "## 1. Traditional Riemann Sphere (Constant Radius)"
   ]
  },
  {
   "cell_type": "code",
   "execution_count": null,
   "metadata": {},
   "outputs": [],
   "source": [
    "# Möbius transformation\n",
    "func = lambda z: (z - 1) / (z + 1)\n",
    "\n",
    "riemann_pv(\n",
    "    func,\n",
    "    n_theta=700,\n",
    "    n_phi=700,\n",
    "    scaling='constant',\n",
    "    anti_aliasing=True,\n",
    "    high_quality=True,\n",
    "    title=\"Möbius Transformation: f(z) = (z-1)/(z+1)\"\n",
    ")"
   ]
  },
  {
   "cell_type": "markdown",
   "metadata": {},
   "source": [
    "## 2. Rational Function with Poles"
   ]
  },
  {
   "cell_type": "code",
   "execution_count": null,
   "metadata": {},
   "outputs": [],
   "source": [
    "# Function with multiple poles\n",
    "func = lambda z: 1 / ((z - 1) * (z + 1) * (z - 1j) * (z + 1j))\n",
    "\n",
    "riemann_pv(\n",
    "    func,\n",
    "    n_theta=800,\n",
    "    n_phi=800,\n",
    "    scaling='constant',\n",
    "    title=\"f(z) = 1/((z-1)(z+1)(z-i)(z+i))\",\n",
    "    show_grid=True,\n",
    "    aa_samples=8,\n",
    ")"
   ]
  },
  {
   "cell_type": "markdown",
   "metadata": {},
   "source": [
    "## 3. Modulus Scaling: Arctan\n",
    "\n",
    "The arctan scaling compresses large modulus values smoothly, making both zeros and poles visible."
   ]
  },
  {
   "cell_type": "code",
   "execution_count": null,
   "metadata": {},
   "outputs": [],
   "source": [
    "# Polynomial with arctan scaling\n",
    "func = lambda z: z**3 - 1\n",
    "\n",
    "riemann_pv(\n",
    "    func,\n",
    "    n_theta=800,\n",
    "    n_phi=800,\n",
    "    scaling='arctan',\n",
    "    scaling_params={'r_min': 0.3, 'r_max': 1.0},\n",
    "    title=\"f(z) = z³ - 1 (Arctan Scaling)\"\n",
    ")"
   ]
  },
  {
   "cell_type": "markdown",
   "metadata": {},
   "source": [
    "## 4. Exponential Function"
   ]
  },
  {
   "cell_type": "code",
   "execution_count": null,
   "metadata": {},
   "outputs": [],
   "source": [
    "# Exponential with logarithmic scaling\n",
    "func = lambda z: np.exp(z)\n",
    "\n",
    "riemann_pv(\n",
    "    func,\n",
    "    n_theta=800,\n",
    "    n_phi=800,\n",
    "    scaling='logarithmic',\n",
    "    scaling_params={'base': np.e, 'r_min': 0.2, 'r_max': 1.0},\n",
    "    title=\"f(z) = exp(z) (Logarithmic Scaling)\"\n",
    ")"
   ]
  },
  {
   "cell_type": "markdown",
   "metadata": {},
   "source": [
    "## 5. Trigonometric Functions"
   ]
  },
  {
   "cell_type": "code",
   "execution_count": null,
   "metadata": {},
   "outputs": [],
   "source": [
    "# Sine function\n",
    "func = lambda z: np.sin(z)\n",
    "\n",
    "riemann_pv(\n",
    "    func,\n",
    "    n_theta=800,\n",
    "    n_phi=800,\n",
    "    scaling='linear_clamp',\n",
    "    scaling_params={'m_max': 5, 'r_min': 0.4, 'r_max': 1.0},\n",
    "    title=\"f(z) = sin(z) (Linear Clamped Scaling)\",\n",
    "    show_grid=True\n",
    ")"
   ]
  },
  {
   "cell_type": "markdown",
   "metadata": {},
   "source": [
    "## 6. Essential Singularity"
   ]
  },
  {
   "cell_type": "code",
   "execution_count": null,
   "metadata": {},
   "outputs": [],
   "source": [
    "# Function with essential singularity at origin\n",
    "def f_essential(z):\n",
    "    # Handle z = 0\n",
    "    result = np.zeros_like(z, dtype=complex)\n",
    "    mask = z != 0\n",
    "    result[mask] = np.exp(1 / z[mask])\n",
    "    return result\n",
    "\n",
    "riemann_pv(\n",
    "    f_essential,\n",
    "    n_theta=800,\n",
    "    n_phi=800,\n",
    "    scaling='arctan',\n",
    "    scaling_params={'r_min': 0.1, 'r_max': 1.0},\n",
    "    title=\"f(z) = exp(1/z) - Essential Singularity\"\n",
    ")"
   ]
  },
  {
   "cell_type": "markdown",
   "metadata": {},
   "source": [
    "## 7. Comparison: Different Scaling Methods"
   ]
  },
  {
   "cell_type": "code",
   "execution_count": null,
   "metadata": {},
   "outputs": [],
   "source": [
    "# Same function with different scalings\n",
    "func = lambda z: (z**2 - 1) / (z**2 + 1)\n",
    "\n",
    "# Constant (traditional)\n",
    "riemann_pv(\n",
    "    func,\n",
    "    n_theta=500,\n",
    "    n_phi=500,\n",
    "    scaling='constant',\n",
    "    interactive=False,\n",
    "    title=\"Constant Radius\",\n",
    "    filename=\"riemann_constant.png\"\n",
    ")\n",
    "\n",
    "# Arctan scaling\n",
    "riemann_pv(\n",
    "    func,\n",
    "    n_theta=500,\n",
    "    n_phi=500,\n",
    "    scaling='arctan',\n",
    "    interactive=False,\n",
    "    title=\"Arctan Scaling\",\n",
    "    filename=\"riemann_arctan.png\"\n",
    ")\n",
    "\n",
    "print(\"Saved comparison images\")"
   ]
  },
  {
   "cell_type": "markdown",
   "metadata": {},
   "source": [
    "## 8. Custom Color Maps"
   ]
  },
  {
   "cell_type": "code",
   "execution_count": null,
   "metadata": {},
   "outputs": [],
   "source": [
    "# Using different color maps\n",
    "func = lambda z: z**4 - 1\n",
    "\n",
    "# Enhanced phase portrait\n",
    "riemann_pv(\n",
    "    func,\n",
    "    n_theta=800,\n",
    "    n_phi=800,\n",
    "    cmap=cp.Phase(8, 0.7),\n",
    "    title=\"Enhanced Phase Portrait\"\n",
    ")"
   ]
  },
  {
   "cell_type": "code",
   "execution_count": null,
   "metadata": {},
   "outputs": [],
   "source": [
    "# Polar chessboard\n",
    "riemann_pv(\n",
    "    func,\n",
    "    n_theta=800,\n",
    "    n_phi=800,\n",
    "    cmap=cp.PolarChessboard(8, r_log=np.e),\n",
    "    title=\"Polar Chessboard Pattern\"\n",
    ")"
   ]
  },
  {
   "cell_type": "markdown",
   "metadata": {},
   "source": [
    "## 9. High Resolution Example"
   ]
  },
  {
   "cell_type": "code",
   "execution_count": null,
   "metadata": {},
   "outputs": [],
   "source": [
    "# High resolution for detailed visualization\n",
    "func = lambda z: np.tan(z)\n",
    "\n",
    "riemann_pv(\n",
    "    func,\n",
    "    n_theta=1000,  # High resolution\n",
    "    n_phi=1000,\n",
    "    scaling='arctan',\n",
    "    title=\"f(z) = tan(z) - High Resolution\",\n",
    "    show_grid=False  # Grid would be too dense\n",
    ")"
   ]
  },
  {
   "cell_type": "markdown",
   "metadata": {},
   "source": [
    "## Summary\n",
    "\n",
    "The Riemann sphere visualization provides:\n",
    "\n",
    "1. **High-quality rectangular meshing** - Smooth rendering optimized for PyVista\n",
    "2. **Flexible modulus scaling** - Visualize both small and large values\n",
    "3. **High performance** - Interactive even at high resolutions\n",
    "\n",
    "### Scaling Method Guide\n",
    "\n",
    "- **Constant**: Traditional Riemann sphere, best for phase-only visualization\n",
    "- **Arctan**: Smooth compression, good general-purpose choice\n",
    "- **Logarithmic**: For functions with exponential growth\n",
    "- **Linear clamp**: Focus on specific magnitude range\n",
    "- **Custom**: Define your own scaling function\n",
    "\n",
    "### Resolution Guide\n",
    "\n",
    "- `n_theta=100, n_phi=100`: Fast preview (10,000 points) - default\n",
    "- `n_theta=200, n_phi=200`: OK quality (40,000 points)\n",
    "- `n_theta=600, n_phi=600`: good quality (360,000 points)\n",
    "\n",
    "### Tips for Best Results\n",
    "\n",
    "- Use the static backend (`pv.set_jupyter_backend('static')`) if you encounter shader errors\n",
    "- Adjust `n_theta` and `n_phi` for desired resolution/performance trade-off\n",
    "- Try different scaling methods to highlight different aspects of your function\n",
    "- Use `show_grid=True` to add latitude/longitude reference lines"
   ]
  }
 ],
 "metadata": {
  "kernelspec": {
   "display_name": "Python 3",
   "language": "python",
   "name": "python3"
  },
  "language_info": {
   "codemirror_mode": {
    "name": "ipython",
    "version": 3
   },
   "file_extension": ".py",
   "mimetype": "text/x-python",
   "name": "python",
   "nbconvert_exporter": "python",
   "pygments_lexer": "ipython3",
   "version": "3.11.0"
  }
 },
 "nbformat": 4,
 "nbformat_minor": 4
}
