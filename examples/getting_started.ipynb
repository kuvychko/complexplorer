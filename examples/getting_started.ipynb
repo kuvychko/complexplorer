{
 "cells": [
  {
   "cell_type": "markdown",
   "metadata": {},
   "source": [
    "# Getting Started with Complexplorer\n",
    "\n",
    "Welcome to Complexplorer! This notebook will guide you through your first steps in visualizing complex functions.\n",
    "\n",
    "## What You'll Learn\n",
    "\n",
    "1. Basic setup and imports\n",
    "2. Creating your first visualization\n",
    "3. Understanding domains (Rectangle, Disk, Annulus)\n",
    "4. Using colormaps for enhanced visualizations\n",
    "5. Introduction to high-quality 3D plots with PyVista\n",
    "\n",
    "Let's begin!"
   ]
  },
  {
   "cell_type": "markdown",
   "metadata": {},
   "source": [
    "## Installation\n",
    "\n",
    "If you haven't installed complexplorer yet:\n",
    "\n",
    "```bash\n",
    "# Basic installation\n",
    "pip install complexplorer\n",
    "\n",
    "# With PyVista for high-quality 3D (recommended)\n",
    "pip install \"complexplorer[pyvista]\"\n",
    "\n",
    "# Or install everything\n",
    "pip install \"complexplorer[all]\"\n",
    "```"
   ]
  },
  {
   "cell_type": "markdown",
   "metadata": {},
   "source": [
    "## Basic Imports"
   ]
  },
  {
   "cell_type": "code",
   "execution_count": null,
   "metadata": {},
   "outputs": [],
   "source": [
    "import numpy as np\n",
    "import matplotlib.pyplot as plt\n",
    "import complexplorer as cp\n",
    "\n",
    "# Check if PyVista is available\n",
    "try:\n",
    "    import pyvista\n",
    "    HAS_PYVISTA = True\n",
    "    print(\"✓ PyVista is available for high-quality 3D visualizations\")\n",
    "except ImportError:\n",
    "    HAS_PYVISTA = False\n",
    "    print(\"ℹ PyVista not installed. Install with: pip install 'complexplorer[pyvista]'\")\n",
    "    print(\"  You can still use matplotlib for 3D (slower, lower quality)\")"
   ]
  },
  {
   "cell_type": "markdown",
   "metadata": {},
   "source": [
    "## Your First Visualization\n",
    "\n",
    "Let's start with a simple polynomial function: $f(z) = z^2$"
   ]
  },
  {
   "cell_type": "code",
   "execution_count": null,
   "metadata": {},
   "outputs": [],
   "source": [
    "# Define a complex function\n",
    "def f(z):\n",
    "    return z**2\n",
    "\n",
    "# Create a domain (region of complex plane to visualize)\n",
    "domain = cp.Rectangle(3, 3)  # 3x3 rectangle centered at origin\n",
    "\n",
    "# Create visualization\n",
    "fig, ax = plt.subplots(figsize=(6, 6))\n",
    "cp.plot(domain, f, ax=ax)\n",
    "ax.set_title(r\"$f(z) = z^2$\")\n",
    "plt.show()"
   ]
  },
  {
   "cell_type": "markdown",
   "metadata": {},
   "source": [
    "### Understanding the Visualization\n",
    "\n",
    "- **Colors represent phase**: The hue shows the argument (angle) of the complex number\n",
    "- **Red = positive real** (phase = 0)\n",
    "- **Cyan = negative real** (phase = π)\n",
    "- **Green/Yellow = positive imaginary**\n",
    "- **Blue/Magenta = negative imaginary**\n",
    "\n",
    "Notice how $f(z) = z^2$ doubles the phase angle!"
   ]
  },
  {
   "cell_type": "markdown",
   "metadata": {},
   "source": [
    "## Side-by-Side Visualization\n",
    "\n",
    "Often it's helpful to see the domain and codomain side by side:"
   ]
  },
  {
   "cell_type": "code",
   "execution_count": null,
   "metadata": {},
   "outputs": [],
   "source": [
    "# A more interesting function\n",
    "def f(z):\n",
    "    return (z - 1) / (z**2 + z + 1)\n",
    "\n",
    "# Side-by-side plot\n",
    "fig = cp.pair_plot(domain, f, title=r\"$f(z) = \\frac{z - 1}{z^2 + z + 1}$\")\n",
    "plt.show()"
   ]
  },
  {
   "cell_type": "markdown",
   "metadata": {},
   "source": [
    "## Working with Different Domains\n",
    "\n",
    "Complexplorer supports various domain shapes:"
   ]
  },
  {
   "cell_type": "code",
   "execution_count": null,
   "metadata": {},
   "outputs": [],
   "source": [
    "# Rectangle domain\n",
    "rect = cp.Rectangle(re_length=4, im_length=3, center=0+0j, )\n",
    "\n",
    "# Disk domain\n",
    "disk = cp.Disk(radius=2, center=0+0j)\n",
    "\n",
    "# Annulus (ring) domain\n",
    "annulus = cp.Annulus(inner_radius=0.5, outer_radius=2, center=0+0j)\n",
    "\n",
    "# Visualize the same function on different domains\n",
    "fig, axes = plt.subplots(1, 3, figsize=(15, 5))\n",
    "\n",
    "cp.plot(rect, f, ax=axes[0])\n",
    "axes[0].set_title(\"Rectangle Domain\")\n",
    "\n",
    "cp.plot(disk, f, ax=axes[1])\n",
    "axes[1].set_title(\"Disk Domain\")\n",
    "\n",
    "cp.plot(annulus, f, ax=axes[2])\n",
    "axes[2].set_title(\"Annulus Domain\")\n",
    "\n",
    "plt.tight_layout()\n",
    "plt.show()"
   ]
  },
  {
   "cell_type": "markdown",
   "metadata": {},
   "source": [
    "## Enhanced Phase Portraits\n",
    "\n",
    "Basic phase portraits show only the argument. Enhanced phase portraits also encode the modulus (magnitude):"
   ]
  },
  {
   "cell_type": "code",
   "execution_count": null,
   "metadata": {},
   "outputs": [],
   "source": [
    "# Basic phase portrait\n",
    "basic_cmap = cp.Phase()\n",
    "\n",
    "# Enhanced with phase sectors\n",
    "phase_enhanced = cp.Phase(n_phi=6)  # 6 phase sectors\n",
    "\n",
    "# Enhanced with modulus contours\n",
    "modulus_enhanced = cp.Phase(r_linear_step=0.5)  # Contours every 0.5 units\n",
    "\n",
    "# Both enhancements with auto-scaling\n",
    "auto_scaled = cp.Phase(n_phi=6, auto_scale_r=True)  # Automatically creates square cells\n",
    "\n",
    "# Compare them\n",
    "fig, axes = plt.subplots(2, 2, figsize=(10, 10))\n",
    "\n",
    "cp.plot(disk, f, cmap=basic_cmap, ax=axes[0,0])\n",
    "axes[0,0].set_title(\"Basic Phase Portrait\")\n",
    "\n",
    "cp.plot(disk, f, cmap=phase_enhanced, ax=axes[0,1])\n",
    "axes[0,1].set_title(\"Phase-Enhanced (6 sectors)\")\n",
    "\n",
    "cp.plot(disk, f, cmap=modulus_enhanced, ax=axes[1,0])\n",
    "axes[1,0].set_title(\"Modulus-Enhanced\")\n",
    "\n",
    "cp.plot(disk, f, cmap=auto_scaled, ax=axes[1,1])\n",
    "axes[1,1].set_title(\"Auto-Scaled Square Cells\")\n",
    "\n",
    "plt.tight_layout()\n",
    "plt.show()"
   ]
  },
  {
   "cell_type": "markdown",
   "metadata": {},
   "source": [
    "## Introduction to 3D Visualization\n",
    "\n",
    "Now let's explore 3D visualizations. If you have PyVista installed, we'll use it for high-quality, fast rendering.\n",
    "\n",
    "### ⚠️ Important: Quality in Jupyter Notebooks\n",
    "\n",
    "When using PyVista in Jupyter:\n",
    "- **`notebook=False`** → Opens external window with **full quality** ✨\n",
    "- **`notebook=True`** → Shows inline but with **severe aliasing** 😞\n",
    "\n",
    "We'll use `notebook=False` for the best experience!"
   ]
  },
  {
   "cell_type": "code",
   "execution_count": null,
   "metadata": {},
   "outputs": [],
   "source": [
    "if HAS_PYVISTA:\n",
    "    print(\"Using PyVista for high-quality 3D visualization\")\n",
    "    print(\"A new window will open with interactive 3D plot...\")\n",
    "    \n",
    "    # High-quality 3D landscape\n",
    "    # notebook=False opens external window with full quality\n",
    "    plotter = cp.plot_landscape_pv(\n",
    "        domain=disk,\n",
    "        func=f,\n",
    "        cmap=auto_scaled,\n",
    "        resolution=100,\n",
    "        notebook=False,  # This is key for quality!\n",
    "        show=True\n",
    "    )\n",
    "    \n",
    "    print(\"\\n✓ External window opened with interactive 3D plot\")\n",
    "    print(\"  - Use mouse to rotate, zoom, pan\")\n",
    "    print(\"  - Press 'q' to close the window\")\n",
    "    \n",
    "else:\n",
    "    print(\"Using matplotlib for 3D (slower, lower quality)\")\n",
    "    fig = plt.figure(figsize=(10, 8))\n",
    "    ax = fig.add_subplot(111, projection='3d')\n",
    "    cp.plot_landscape(disk, f, cmap=auto_scaled, ax=ax, resolution=50)\n",
    "    plt.show()"
   ]
  },
  {
   "cell_type": "markdown",
   "metadata": {},
   "source": [
    "### Quality Comparison\n",
    "\n",
    "Let's see the difference between inline and external window quality:"
   ]
  },
  {
   "cell_type": "code",
   "execution_count": null,
   "metadata": {},
   "outputs": [],
   "source": [
    "if HAS_PYVISTA:\n",
    "    print(\"First, let's see the LOW QUALITY inline version:\")\n",
    "    \n",
    "    # Low quality inline version\n",
    "    cp.plot_landscape_pv(\n",
    "        domain=cp.Rectangle(2, 2),\n",
    "        func=lambda z: z**3 - z,\n",
    "        resolution=50,\n",
    "        notebook=True,  # Inline = aliasing issues\n",
    "        show=True,\n",
    "        window_size=(600, 400)\n",
    "    )\n",
    "    \n",
    "    print(\"\\nNotice the jagged edges and poor anti-aliasing?\")\n",
    "    print(\"\\nNow let's see the HIGH QUALITY external window:\")\n",
    "    print(\"(A new window will open)\")\n",
    "    \n",
    "    # High quality external version\n",
    "    cp.plot_landscape_pv(\n",
    "        domain=cp.Rectangle(2, 2),\n",
    "        func=lambda z: z**3 - z,\n",
    "        resolution=50,\n",
    "        notebook=False,  # External = full quality\n",
    "        show=True\n",
    "    )\n",
    "    \n",
    "    print(\"\\n✨ Much better! Always use notebook=False for quality.\")"
   ]
  },
  {
   "cell_type": "markdown",
   "metadata": {},
   "source": [
    "## Performance Benefits\n",
    "\n",
    "PyVista is not just higher quality, it's also **15-30x faster** than matplotlib for 3D:"
   ]
  },
  {
   "cell_type": "code",
   "execution_count": null,
   "metadata": {},
   "outputs": [],
   "source": [
    "if HAS_PYVISTA:\n",
    "    import time\n",
    "    \n",
    "    # Time PyVista\n",
    "    start = time.time()\n",
    "    cp.plot_landscape_pv(disk, f, resolution=100, notebook=False, show=False, off_screen=True)\n",
    "    pyvista_time = time.time() - start\n",
    "    \n",
    "    # Time matplotlib\n",
    "    start = time.time()\n",
    "    fig = plt.figure()\n",
    "    ax = fig.add_subplot(111, projection='3d')\n",
    "    cp.plot_landscape(disk, f, resolution=100, ax=ax)\n",
    "    plt.close()\n",
    "    matplotlib_time = time.time() - start\n",
    "    \n",
    "    print(f\"PyVista time: {pyvista_time:.2f}s\")\n",
    "    print(f\"Matplotlib time: {matplotlib_time:.2f}s\")\n",
    "    print(f\"\\nPyVista is {matplotlib_time/pyvista_time:.1f}x faster!\")\n",
    "else:\n",
    "    print(\"Install PyVista to see performance comparison\")"
   ]
  },
  {
   "cell_type": "markdown",
   "metadata": {},
   "source": [
    "## Exercises\n",
    "\n",
    "Now it's your turn! Try these exercises:\n",
    "\n",
    "### Exercise 1: Explore Different Functions\n",
    "Try visualizing these functions:\n",
    "- $f(z) = z^3 - 1$ (cube roots of unity)\n",
    "- $f(z) = \\sin(z)$ (sine function)\n",
    "- $f(z) = e^z$ (exponential)\n",
    "- $f(z) = \\frac{1}{z}$ (hint: use an Annulus domain to avoid the pole at 0)"
   ]
  },
  {
   "cell_type": "code",
   "execution_count": null,
   "metadata": {},
   "outputs": [],
   "source": [
    "# Your code here\n",
    "def my_func(z):\n",
    "    return z**3 - 1  # Try different functions!\n",
    "\n",
    "# Visualize it\n",
    "# plot(domain, my_func)"
   ]
  },
  {
   "cell_type": "markdown",
   "metadata": {},
   "source": [
    "### Exercise 2: Create Custom Domains\n",
    "Try creating domains with different parameters:\n",
    "- A tall rectangle (re_length=2, im_length=6)\n",
    "- A disk centered at 1+i with radius 1.5\n",
    "- A thin annulus (inner_radius=1.8, outer_radius=2.0)"
   ]
  },
  {
   "cell_type": "code",
   "execution_count": null,
   "metadata": {},
   "outputs": [],
   "source": [
    "# Your domain experiments here\n",
    "# my_domain = cp.Rectangle(re_length=4, im_length=2)\n",
    "# cp.plot(my_domain, f)"
   ]
  },
  {
   "cell_type": "markdown",
   "metadata": {},
   "source": [
    "### Exercise 3: Experiment with Colormaps\n",
    "Try different colormap parameters:\n",
    "- Phase with different n_phi values (try 3, 8, 12)\n",
    "- Different r_linear_step values\n",
    "- Compare auto_scale_r=True with manual settings"
   ]
  },
  {
   "cell_type": "code",
   "execution_count": null,
   "metadata": {},
   "outputs": [],
   "source": [
    "# Your colormap experiments here\n",
    "# my_cmap = Phase(...)\n",
    "# plot(domain, f, cmap=my_cmap)"
   ]
  },
  {
   "cell_type": "markdown",
   "metadata": {},
   "source": [
    "## Summary\n",
    "\n",
    "You've learned:\n",
    "1. ✓ How to create basic visualizations with `plot()`\n",
    "2. ✓ Using different domains (Rectangle, Disk, Annulus)\n",
    "3. ✓ Enhanced phase portraits with automatic scaling\n",
    "4. ✓ High-quality 3D with PyVista (use `notebook=False`!)\n",
    "5. ✓ Performance benefits of PyVista\n",
    "\n",
    "## Next Steps\n",
    "\n",
    "- Check out `advanced_features.ipynb` for:\n",
    "  - More colormap types (Chessboard, PolarChessboard, LogRings)\n",
    "  - Riemann sphere visualizations\n",
    "  - STL export for 3D printing\n",
    "  - Domain composition\n",
    "  \n",
    "- See `api_cookbook.ipynb` for:\n",
    "  - Common function patterns\n",
    "  - Best practices\n",
    "  - Performance optimization\n",
    "\n",
    "Happy exploring! 🌈"
   ]
  }
 ],
 "metadata": {
  "kernelspec": {
   "display_name": "Python 3",
   "language": "python",
   "name": "python3"
  },
  "language_info": {
   "codemirror_mode": {
    "name": "ipython",
    "version": 3
   },
   "file_extension": ".py",
   "mimetype": "text/x-python",
   "name": "python",
   "nbconvert_exporter": "python",
   "pygments_lexer": "ipython3",
   "version": "3.11.0"
  }
 },
 "nbformat": 4,
 "nbformat_minor": 4
}
